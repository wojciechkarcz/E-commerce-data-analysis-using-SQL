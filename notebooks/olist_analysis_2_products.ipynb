{
 "cells": [
  {
   "attachments": {},
   "cell_type": "markdown",
   "metadata": {},
   "source": [
    "# Products\n",
    "\n",
    "In this notebook, we analyze the products sold using the Olist marketplace.\n",
    "\n",
    "We will look for answers to the following questions:\n",
    "- How many different categories of products are there?\n",
    "- Which category generates the most revenue?\n",
    "- Does the 80/20 rule apply to the sale of products in this store?"
   ]
  },
  {
   "attachments": {},
   "cell_type": "markdown",
   "metadata": {},
   "source": [
    "Importing Python libraries in order to make some possible visualizations."
   ]
  },
  {
   "cell_type": "code",
   "execution_count": 1,
   "metadata": {},
   "outputs": [],
   "source": [
    "import matplotlib.pyplot as plt\n",
    "import seaborn as sns\n",
    "import pandas as pd"
   ]
  },
  {
   "attachments": {},
   "cell_type": "markdown",
   "metadata": {},
   "source": [
    "Establishing connection to the database."
   ]
  },
  {
   "cell_type": "code",
   "execution_count": 2,
   "metadata": {
    "vscode": {
     "languageId": "sql"
    }
   },
   "outputs": [
    {
     "data": {
      "text/plain": [
       "'Connected: @data/olist.db'"
      ]
     },
     "execution_count": 2,
     "metadata": {},
     "output_type": "execute_result"
    }
   ],
   "source": [
    "%load_ext sql\n",
    "%sql sqlite:///data/olist.db"
   ]
  },
  {
   "attachments": {},
   "cell_type": "markdown",
   "metadata": {},
   "source": [
    "For the analysis in this notebook, we will use the same tables as in the first one:\n",
    "- 'orders'\n",
    "- 'order_items'\n",
    "- 'order_payments\n",
    "- 'products'\n",
    "- 'products_translation'  \n",
    "\n",
    "For this analysis, the table 'order_items' is crucial, where information about the number of specific products purchased under each order is stored. In the previous notebook (\"Order and payments) I analyzed the sum of revenues in the Olist store and then I took into account the total amount that the customer payments (cost of the product + shipping). Here I will take into account the price of the product itself and treat it as revenue (from the point of seller)."
   ]
  },
  {
   "attachments": {},
   "cell_type": "markdown",
   "metadata": {},
   "source": [
    "### How many different categories of products are there?\n",
    "\n",
    "At the beginning, we check how many product categories there are in the entire data set."
   ]
  },
  {
   "cell_type": "code",
   "execution_count": 13,
   "metadata": {
    "vscode": {
     "languageId": "sql"
    }
   },
   "outputs": [
    {
     "name": "stdout",
     "output_type": "stream",
     "text": [
      " * sqlite:///olist.db\n",
      "Done.\n"
     ]
    },
    {
     "data": {
      "text/html": [
       "<table>\n",
       "    <thead>\n",
       "        <tr>\n",
       "            <th>category_qty</th>\n",
       "        </tr>\n",
       "    </thead>\n",
       "    <tbody>\n",
       "        <tr>\n",
       "            <td>73</td>\n",
       "        </tr>\n",
       "    </tbody>\n",
       "</table>"
      ],
      "text/plain": [
       "[(73,)]"
      ]
     },
     "execution_count": 13,
     "metadata": {},
     "output_type": "execute_result"
    }
   ],
   "source": [
    "%%sql\n",
    "SELECT COUNT(DISTINCT product_category_name) AS category_qty FROM products;"
   ]
  },
  {
   "attachments": {},
   "cell_type": "markdown",
   "metadata": {},
   "source": [
    "You can then see how many different products there are within each category."
   ]
  },
  {
   "cell_type": "code",
   "execution_count": 33,
   "metadata": {
    "vscode": {
     "languageId": "sql"
    }
   },
   "outputs": [
    {
     "name": "stdout",
     "output_type": "stream",
     "text": [
      " * sqlite:///olist.db\n",
      "Done.\n"
     ]
    },
    {
     "data": {
      "text/html": [
       "<table>\n",
       "    <thead>\n",
       "        <tr>\n",
       "            <th>category</th>\n",
       "            <th>products_qty</th>\n",
       "        </tr>\n",
       "    </thead>\n",
       "    <tbody>\n",
       "        <tr>\n",
       "            <td>bed_bath_table</td>\n",
       "            <td>3029</td>\n",
       "        </tr>\n",
       "        <tr>\n",
       "            <td>sports_leisure</td>\n",
       "            <td>2867</td>\n",
       "        </tr>\n",
       "        <tr>\n",
       "            <td>furniture_decor</td>\n",
       "            <td>2657</td>\n",
       "        </tr>\n",
       "        <tr>\n",
       "            <td>health_beauty</td>\n",
       "            <td>2444</td>\n",
       "        </tr>\n",
       "        <tr>\n",
       "            <td>housewares</td>\n",
       "            <td>2335</td>\n",
       "        </tr>\n",
       "        <tr>\n",
       "            <td>auto</td>\n",
       "            <td>1900</td>\n",
       "        </tr>\n",
       "        <tr>\n",
       "            <td>computers_accessories</td>\n",
       "            <td>1639</td>\n",
       "        </tr>\n",
       "        <tr>\n",
       "            <td>toys</td>\n",
       "            <td>1411</td>\n",
       "        </tr>\n",
       "        <tr>\n",
       "            <td>watches_gifts</td>\n",
       "            <td>1329</td>\n",
       "        </tr>\n",
       "        <tr>\n",
       "            <td>telephony</td>\n",
       "            <td>1134</td>\n",
       "        </tr>\n",
       "        <tr>\n",
       "            <td>baby</td>\n",
       "            <td>919</td>\n",
       "        </tr>\n",
       "        <tr>\n",
       "            <td>perfumery</td>\n",
       "            <td>868</td>\n",
       "        </tr>\n",
       "        <tr>\n",
       "            <td>stationery</td>\n",
       "            <td>849</td>\n",
       "        </tr>\n",
       "        <tr>\n",
       "            <td>fashion_bags_accessories</td>\n",
       "            <td>849</td>\n",
       "        </tr>\n",
       "        <tr>\n",
       "            <td>cool_stuff</td>\n",
       "            <td>789</td>\n",
       "        </tr>\n",
       "        <tr>\n",
       "            <td>garden_tools</td>\n",
       "            <td>753</td>\n",
       "        </tr>\n",
       "        <tr>\n",
       "            <td>pet_shop</td>\n",
       "            <td>719</td>\n",
       "        </tr>\n",
       "        <tr>\n",
       "            <td>None</td>\n",
       "            <td>623</td>\n",
       "        </tr>\n",
       "        <tr>\n",
       "            <td>electronics</td>\n",
       "            <td>517</td>\n",
       "        </tr>\n",
       "        <tr>\n",
       "            <td>construction_tools_construction</td>\n",
       "            <td>400</td>\n",
       "        </tr>\n",
       "    </tbody>\n",
       "</table>"
      ],
      "text/plain": [
       "[('bed_bath_table', 3029),\n",
       " ('sports_leisure', 2867),\n",
       " ('furniture_decor', 2657),\n",
       " ('health_beauty', 2444),\n",
       " ('housewares', 2335),\n",
       " ('auto', 1900),\n",
       " ('computers_accessories', 1639),\n",
       " ('toys', 1411),\n",
       " ('watches_gifts', 1329),\n",
       " ('telephony', 1134),\n",
       " ('baby', 919),\n",
       " ('perfumery', 868),\n",
       " ('stationery', 849),\n",
       " ('fashion_bags_accessories', 849),\n",
       " ('cool_stuff', 789),\n",
       " ('garden_tools', 753),\n",
       " ('pet_shop', 719),\n",
       " (None, 623),\n",
       " ('electronics', 517),\n",
       " ('construction_tools_construction', 400)]"
      ]
     },
     "execution_count": 33,
     "metadata": {},
     "output_type": "execute_result"
    }
   ],
   "source": [
    "%%sql \n",
    "SELECT products_translation.product_category_name_english AS category, COUNT(DISTINCT products.product_id) AS products_qty FROM products\n",
    "LEFT JOIN products_translation ON products.product_category_name=products_translation.product_category_name\n",
    "GROUP BY products_translation.product_category_name\n",
    "ORDER BY products_qty DESC\n",
    "LIMIT 20;"
   ]
  },
  {
   "attachments": {},
   "cell_type": "markdown",
   "metadata": {},
   "source": [
    "### Which category generates the most revenue?\n",
    "\n",
    "In the first query, there are ranked categories in terms of revenue over the entire sales period (2016-18). The first 3 places with a total revenue of over RBL 1,000,000 are occupied by the following categories: *health_beauty*, *watches_gifts*, *bed_bath_table*."
   ]
  },
  {
   "cell_type": "code",
   "execution_count": 28,
   "metadata": {
    "vscode": {
     "languageId": "sql"
    }
   },
   "outputs": [
    {
     "name": "stdout",
     "output_type": "stream",
     "text": [
      " * sqlite:///olist.db\n",
      "Done.\n"
     ]
    },
    {
     "data": {
      "text/html": [
       "<table>\n",
       "    <thead>\n",
       "        <tr>\n",
       "            <th>category</th>\n",
       "            <th>total_revenue</th>\n",
       "        </tr>\n",
       "    </thead>\n",
       "    <tbody>\n",
       "        <tr>\n",
       "            <td>health_beauty</td>\n",
       "            <td>1258681.34</td>\n",
       "        </tr>\n",
       "        <tr>\n",
       "            <td>watches_gifts</td>\n",
       "            <td>1205005.68</td>\n",
       "        </tr>\n",
       "        <tr>\n",
       "            <td>bed_bath_table</td>\n",
       "            <td>1036988.68</td>\n",
       "        </tr>\n",
       "        <tr>\n",
       "            <td>sports_leisure</td>\n",
       "            <td>988048.97</td>\n",
       "        </tr>\n",
       "        <tr>\n",
       "            <td>computers_accessories</td>\n",
       "            <td>911954.32</td>\n",
       "        </tr>\n",
       "        <tr>\n",
       "            <td>furniture_decor</td>\n",
       "            <td>729762.49</td>\n",
       "        </tr>\n",
       "        <tr>\n",
       "            <td>cool_stuff</td>\n",
       "            <td>635290.85</td>\n",
       "        </tr>\n",
       "        <tr>\n",
       "            <td>housewares</td>\n",
       "            <td>632248.66</td>\n",
       "        </tr>\n",
       "        <tr>\n",
       "            <td>auto</td>\n",
       "            <td>592720.11</td>\n",
       "        </tr>\n",
       "        <tr>\n",
       "            <td>garden_tools</td>\n",
       "            <td>485256.46</td>\n",
       "        </tr>\n",
       "    </tbody>\n",
       "</table>"
      ],
      "text/plain": [
       "[('health_beauty', 1258681.34),\n",
       " ('watches_gifts', 1205005.68),\n",
       " ('bed_bath_table', 1036988.68),\n",
       " ('sports_leisure', 988048.97),\n",
       " ('computers_accessories', 911954.32),\n",
       " ('furniture_decor', 729762.49),\n",
       " ('cool_stuff', 635290.85),\n",
       " ('housewares', 632248.66),\n",
       " ('auto', 592720.11),\n",
       " ('garden_tools', 485256.46)]"
      ]
     },
     "execution_count": 28,
     "metadata": {},
     "output_type": "execute_result"
    }
   ],
   "source": [
    "%%sql\n",
    "SELECT products_translation.product_category_name_english AS category, ROUND(SUM(a.total_sum),2) AS total_revenue FROM\n",
    "(SELECT product_id, SUM(price) AS total_sum FROM order_items\n",
    "GROUP BY product_id\n",
    "ORDER BY total_sum DESC) AS a\n",
    "LEFT JOIN products ON a.product_id=products.product_id\n",
    "LEFT JOIN products_translation ON products.product_category_name=products_translation.product_category_name\n",
    "GROUP BY products_translation.product_category_name\n",
    "ORDER BY total_revenue DESC\n",
    "LIMIT 10;"
   ]
  },
  {
   "attachments": {},
   "cell_type": "markdown",
   "metadata": {},
   "source": [
    "Below is a query that displays the most profitable category each year."
   ]
  },
  {
   "cell_type": "code",
   "execution_count": 27,
   "metadata": {
    "vscode": {
     "languageId": "sql"
    }
   },
   "outputs": [
    {
     "name": "stdout",
     "output_type": "stream",
     "text": [
      " * sqlite:///olist.db\n",
      "Done.\n"
     ]
    },
    {
     "data": {
      "text/html": [
       "<table>\n",
       "    <thead>\n",
       "        <tr>\n",
       "            <th>year</th>\n",
       "            <th>category</th>\n",
       "            <th>total_revenue</th>\n",
       "        </tr>\n",
       "    </thead>\n",
       "    <tbody>\n",
       "        <tr>\n",
       "            <td>2016</td>\n",
       "            <td>furniture_decor</td>\n",
       "            <td>5880.78</td>\n",
       "        </tr>\n",
       "        <tr>\n",
       "            <td>2017</td>\n",
       "            <td>bed_bath_table</td>\n",
       "            <td>498440.43</td>\n",
       "        </tr>\n",
       "        <tr>\n",
       "            <td>2018</td>\n",
       "            <td>health_beauty</td>\n",
       "            <td>772238.15</td>\n",
       "        </tr>\n",
       "    </tbody>\n",
       "</table>"
      ],
      "text/plain": [
       "[('2016', 'furniture_decor', 5880.78),\n",
       " ('2017', 'bed_bath_table', 498440.43),\n",
       " ('2018', 'health_beauty', 772238.15)]"
      ]
     },
     "execution_count": 27,
     "metadata": {},
     "output_type": "execute_result"
    }
   ],
   "source": [
    "%%sql\n",
    "SELECT year, category, price_sum AS total_revenue FROM (SELECT a.year, a.category, a.price_sum, \n",
    "RANK () OVER (\n",
    "    PARTITION BY a.year \n",
    "    ORDER BY price_sum DESC) \n",
    "    revenue_rank FROM\n",
    "(SELECT STRFTIME(\"%Y\",o.order_purchase_timestamp) AS year, t.product_category_name_english AS category, ROUND(SUM(i.price),2) AS price_sum FROM order_items i \n",
    "LEFT JOIN orders o ON o.order_id=i.order_id\n",
    "LEFT JOIN products p ON i.product_id=p.product_id\n",
    "LEFT JOIN products_translation t ON p.product_category_name=t.product_category_name\n",
    "GROUP BY STRFTIME(\"%Y\",o.order_purchase_timestamp), p.product_category_name) AS a\n",
    ")\n",
    "WHERE revenue_rank = 1;"
   ]
  },
  {
   "attachments": {},
   "cell_type": "markdown",
   "metadata": {},
   "source": [
    "Based on the previous query, you can easily create a table that shows the TOP 5 categories in terms of revenue each year.  \n",
    "The 'rank' column defines the position in terms of revenue in a given year.\n"
   ]
  },
  {
   "cell_type": "code",
   "execution_count": 30,
   "metadata": {
    "vscode": {
     "languageId": "sql"
    }
   },
   "outputs": [
    {
     "name": "stdout",
     "output_type": "stream",
     "text": [
      " * sqlite:///olist.db\n",
      "Done.\n"
     ]
    },
    {
     "data": {
      "text/html": [
       "<table>\n",
       "    <thead>\n",
       "        <tr>\n",
       "            <th>year</th>\n",
       "            <th>category</th>\n",
       "            <th>total_revenue</th>\n",
       "            <th>rank</th>\n",
       "        </tr>\n",
       "    </thead>\n",
       "    <tbody>\n",
       "        <tr>\n",
       "            <td>2016</td>\n",
       "            <td>furniture_decor</td>\n",
       "            <td>5880.78</td>\n",
       "            <td>1</td>\n",
       "        </tr>\n",
       "        <tr>\n",
       "            <td>2016</td>\n",
       "            <td>perfumery</td>\n",
       "            <td>5688.7</td>\n",
       "            <td>2</td>\n",
       "        </tr>\n",
       "        <tr>\n",
       "            <td>2016</td>\n",
       "            <td>health_beauty</td>\n",
       "            <td>4687.48</td>\n",
       "            <td>3</td>\n",
       "        </tr>\n",
       "        <tr>\n",
       "            <td>2016</td>\n",
       "            <td>toys</td>\n",
       "            <td>4465.09</td>\n",
       "            <td>4</td>\n",
       "        </tr>\n",
       "        <tr>\n",
       "            <td>2016</td>\n",
       "            <td>consoles_games</td>\n",
       "            <td>3882.26</td>\n",
       "            <td>5</td>\n",
       "        </tr>\n",
       "        <tr>\n",
       "            <td>2017</td>\n",
       "            <td>bed_bath_table</td>\n",
       "            <td>498440.43</td>\n",
       "            <td>1</td>\n",
       "        </tr>\n",
       "        <tr>\n",
       "            <td>2017</td>\n",
       "            <td>watches_gifts</td>\n",
       "            <td>492794.5</td>\n",
       "            <td>2</td>\n",
       "        </tr>\n",
       "        <tr>\n",
       "            <td>2017</td>\n",
       "            <td>health_beauty</td>\n",
       "            <td>481755.71</td>\n",
       "            <td>3</td>\n",
       "        </tr>\n",
       "        <tr>\n",
       "            <td>2017</td>\n",
       "            <td>sports_leisure</td>\n",
       "            <td>452148.84</td>\n",
       "            <td>4</td>\n",
       "        </tr>\n",
       "        <tr>\n",
       "            <td>2017</td>\n",
       "            <td>computers_accessories</td>\n",
       "            <td>405078.69</td>\n",
       "            <td>5</td>\n",
       "        </tr>\n",
       "        <tr>\n",
       "            <td>2018</td>\n",
       "            <td>health_beauty</td>\n",
       "            <td>772238.15</td>\n",
       "            <td>1</td>\n",
       "        </tr>\n",
       "        <tr>\n",
       "            <td>2018</td>\n",
       "            <td>watches_gifts</td>\n",
       "            <td>708850.94</td>\n",
       "            <td>2</td>\n",
       "        </tr>\n",
       "        <tr>\n",
       "            <td>2018</td>\n",
       "            <td>bed_bath_table</td>\n",
       "            <td>538069.26</td>\n",
       "            <td>3</td>\n",
       "        </tr>\n",
       "        <tr>\n",
       "            <td>2018</td>\n",
       "            <td>sports_leisure</td>\n",
       "            <td>532566.49</td>\n",
       "            <td>4</td>\n",
       "        </tr>\n",
       "        <tr>\n",
       "            <td>2018</td>\n",
       "            <td>computers_accessories</td>\n",
       "            <td>505476.31</td>\n",
       "            <td>5</td>\n",
       "        </tr>\n",
       "    </tbody>\n",
       "</table>"
      ],
      "text/plain": [
       "[('2016', 'furniture_decor', 5880.78, 1),\n",
       " ('2016', 'perfumery', 5688.7, 2),\n",
       " ('2016', 'health_beauty', 4687.48, 3),\n",
       " ('2016', 'toys', 4465.09, 4),\n",
       " ('2016', 'consoles_games', 3882.26, 5),\n",
       " ('2017', 'bed_bath_table', 498440.43, 1),\n",
       " ('2017', 'watches_gifts', 492794.5, 2),\n",
       " ('2017', 'health_beauty', 481755.71, 3),\n",
       " ('2017', 'sports_leisure', 452148.84, 4),\n",
       " ('2017', 'computers_accessories', 405078.69, 5),\n",
       " ('2018', 'health_beauty', 772238.15, 1),\n",
       " ('2018', 'watches_gifts', 708850.94, 2),\n",
       " ('2018', 'bed_bath_table', 538069.26, 3),\n",
       " ('2018', 'sports_leisure', 532566.49, 4),\n",
       " ('2018', 'computers_accessories', 505476.31, 5)]"
      ]
     },
     "execution_count": 30,
     "metadata": {},
     "output_type": "execute_result"
    }
   ],
   "source": [
    "%%sql\n",
    "SELECT year, category, price_sum AS total_revenue, revenue_rank AS rank FROM (SELECT a.year, a.category, a.price_sum, \n",
    "RANK () OVER (\n",
    "    PARTITION BY a.year \n",
    "    ORDER BY price_sum DESC) \n",
    "    revenue_rank FROM\n",
    "(SELECT STRFTIME(\"%Y\",o.order_purchase_timestamp) AS year, t.product_category_name_english AS category, ROUND(SUM(i.price),2) AS price_sum FROM order_items i \n",
    "LEFT JOIN orders o ON o.order_id=i.order_id\n",
    "LEFT JOIN products p ON i.product_id=p.product_id\n",
    "LEFT JOIN products_translation t ON p.product_category_name=t.product_category_name\n",
    "GROUP BY STRFTIME(\"%Y\",o.order_purchase_timestamp), p.product_category_name) AS a\n",
    ")\n",
    "WHERE revenue_rank <= 5;"
   ]
  },
  {
   "attachments": {},
   "cell_type": "markdown",
   "metadata": {},
   "source": [
    "Using the pandas and seaborn libraries, you can create a simple bar chart showing the revenues of subsequent product categories."
   ]
  },
  {
   "cell_type": "code",
   "execution_count": 86,
   "metadata": {},
   "outputs": [
    {
     "name": "stdout",
     "output_type": "stream",
     "text": [
      " * sqlite:///olist.db\n",
      "Done.\n"
     ]
    },
    {
     "data": {
      "text/plain": [
       "(array([ 0,  1,  2,  3,  4,  5,  6,  7,  8,  9, 10, 11, 12, 13, 14]),\n",
       " [Text(0, 0, '2016 furniture_decor'),\n",
       "  Text(1, 0, '2016 perfumery'),\n",
       "  Text(2, 0, '2016 health_beauty'),\n",
       "  Text(3, 0, '2016 toys'),\n",
       "  Text(4, 0, '2016 consoles_games'),\n",
       "  Text(5, 0, '2017 bed_bath_table'),\n",
       "  Text(6, 0, '2017 watches_gifts'),\n",
       "  Text(7, 0, '2017 health_beauty'),\n",
       "  Text(8, 0, '2017 sports_leisure'),\n",
       "  Text(9, 0, '2017 computers_accessories'),\n",
       "  Text(10, 0, '2018 health_beauty'),\n",
       "  Text(11, 0, '2018 watches_gifts'),\n",
       "  Text(12, 0, '2018 bed_bath_table'),\n",
       "  Text(13, 0, '2018 sports_leisure'),\n",
       "  Text(14, 0, '2018 computers_accessories')])"
      ]
     },
     "execution_count": 86,
     "metadata": {},
     "output_type": "execute_result"
    },
    {
     "data": {
      "image/png": "[encoded data removed]",
      "text/plain": [
       "<Figure size 800x400 with 1 Axes>"
      ]
     },
     "metadata": {},
     "output_type": "display_data"
    }
   ],
   "source": [
    "data = %sql SELECT year, category, price_sum AS total_revenue, revenue_rank AS rank FROM (SELECT a.year, a.category, a.price_sum, \\\n",
    "RANK () OVER (PARTITION BY a.year ORDER BY price_sum DESC) revenue_rank FROM \\\n",
    "(SELECT STRFTIME(\"%Y\",o.order_purchase_timestamp) AS year, t.product_category_name_english AS category, ROUND(SUM(i.price),2) AS price_sum FROM order_items i \\\n",
    "LEFT JOIN orders o ON o.order_id=i.order_id \\\n",
    "LEFT JOIN products p ON i.product_id=p.product_id \\\n",
    "LEFT JOIN products_translation t ON p.product_category_name=t.product_category_name \\\n",
    "GROUP BY STRFTIME(\"%Y\",o.order_purchase_timestamp), p.product_category_name) AS a) WHERE revenue_rank <= 5;\n",
    "\n",
    "data = data.DataFrame()\n",
    "data['index'] = data['year'] + str(' ') + data['category']\n",
    "\n",
    "plt.figure(figsize = (8,4))\n",
    "sns.set_style(\"white\")\n",
    "sns.barplot(data, x='index', y='total_revenue')\n",
    "plt.xticks(rotation=80, fontsize=8)"
   ]
  },
  {
   "attachments": {},
   "cell_type": "markdown",
   "metadata": {},
   "source": [
    "### Does the 80/20 rule apply to the sale of products in this store?\n",
    "\n",
    "The popular 80/20 rule (known as the Pareto principle) states that 80% of the consequences are due to 20% of the causes. We will try to see if this rule applies to the revenue generated by the various products in the Olist store.\n",
    "\n",
    "We start with a query that displays the TOP 10 best-selling products ranked by total revenue."
   ]
  },
  {
   "cell_type": "code",
   "execution_count": 19,
   "metadata": {
    "vscode": {
     "languageId": "sql"
    }
   },
   "outputs": [
    {
     "name": "stdout",
     "output_type": "stream",
     "text": [
      " * sqlite:///olist.db\n",
      "Done.\n"
     ]
    },
    {
     "data": {
      "text/html": [
       "<table>\n",
       "    <thead>\n",
       "        <tr>\n",
       "            <th>product_id</th>\n",
       "            <th>category</th>\n",
       "            <th>qty</th>\n",
       "            <th>price</th>\n",
       "            <th>total_sum</th>\n",
       "        </tr>\n",
       "    </thead>\n",
       "    <tbody>\n",
       "        <tr>\n",
       "            <td>bb50f2e236e5eea0100680137654686c</td>\n",
       "            <td>health_beauty</td>\n",
       "            <td>195</td>\n",
       "            <td>330.0</td>\n",
       "            <td>63885.0</td>\n",
       "        </tr>\n",
       "        <tr>\n",
       "            <td>6cdd53843498f92890544667809f1595</td>\n",
       "            <td>health_beauty</td>\n",
       "            <td>156</td>\n",
       "            <td>349.9</td>\n",
       "            <td>54730.2</td>\n",
       "        </tr>\n",
       "        <tr>\n",
       "            <td>d6160fb7873f184099d9bc95e30376af</td>\n",
       "            <td>computers</td>\n",
       "            <td>35</td>\n",
       "            <td>1300.0</td>\n",
       "            <td>48899.34</td>\n",
       "        </tr>\n",
       "        <tr>\n",
       "            <td>d1c427060a0f73f6b889a5c7c61f2ac4</td>\n",
       "            <td>computers_accessories</td>\n",
       "            <td>343</td>\n",
       "            <td>149.0</td>\n",
       "            <td>47214.51</td>\n",
       "        </tr>\n",
       "        <tr>\n",
       "            <td>99a4788cb24856965c36a24e339b6058</td>\n",
       "            <td>bed_bath_table</td>\n",
       "            <td>488</td>\n",
       "            <td>74.0</td>\n",
       "            <td>43025.56</td>\n",
       "        </tr>\n",
       "        <tr>\n",
       "            <td>3dd2a17168ec895c781a9191c1e95ad7</td>\n",
       "            <td>computers_accessories</td>\n",
       "            <td>274</td>\n",
       "            <td>149.9</td>\n",
       "            <td>41082.6</td>\n",
       "        </tr>\n",
       "        <tr>\n",
       "            <td>25c38557cf793876c5abdd5931f922db</td>\n",
       "            <td>baby</td>\n",
       "            <td>38</td>\n",
       "            <td>1106.99</td>\n",
       "            <td>38907.32</td>\n",
       "        </tr>\n",
       "        <tr>\n",
       "            <td>5f504b3a1c75b73d6151be81eb05bdc9</td>\n",
       "            <td>cool_stuff</td>\n",
       "            <td>63</td>\n",
       "            <td>610.0</td>\n",
       "            <td>37733.9</td>\n",
       "        </tr>\n",
       "        <tr>\n",
       "            <td>53b36df67ebb7c41585e8d54d6772e08</td>\n",
       "            <td>watches_gifts</td>\n",
       "            <td>323</td>\n",
       "            <td>99.9</td>\n",
       "            <td>37683.42</td>\n",
       "        </tr>\n",
       "        <tr>\n",
       "            <td>aca2eb7d00ea1a7b8ebd4e68314663af</td>\n",
       "            <td>furniture_decor</td>\n",
       "            <td>527</td>\n",
       "            <td>69.9</td>\n",
       "            <td>37608.9</td>\n",
       "        </tr>\n",
       "    </tbody>\n",
       "</table>"
      ],
      "text/plain": [
       "[('bb50f2e236e5eea0100680137654686c', 'health_beauty', 195, 330.0, 63885.0),\n",
       " ('6cdd53843498f92890544667809f1595', 'health_beauty', 156, 349.9, 54730.2),\n",
       " ('d6160fb7873f184099d9bc95e30376af', 'computers', 35, 1300.0, 48899.34),\n",
       " ('d1c427060a0f73f6b889a5c7c61f2ac4', 'computers_accessories', 343, 149.0, 47214.51),\n",
       " ('99a4788cb24856965c36a24e339b6058', 'bed_bath_table', 488, 74.0, 43025.56),\n",
       " ('3dd2a17168ec895c781a9191c1e95ad7', 'computers_accessories', 274, 149.9, 41082.6),\n",
       " ('25c38557cf793876c5abdd5931f922db', 'baby', 38, 1106.99, 38907.32),\n",
       " ('5f504b3a1c75b73d6151be81eb05bdc9', 'cool_stuff', 63, 610.0, 37733.9),\n",
       " ('53b36df67ebb7c41585e8d54d6772e08', 'watches_gifts', 323, 99.9, 37683.42),\n",
       " ('aca2eb7d00ea1a7b8ebd4e68314663af', 'furniture_decor', 527, 69.9, 37608.9)]"
      ]
     },
     "execution_count": 19,
     "metadata": {},
     "output_type": "execute_result"
    }
   ],
   "source": [
    "%%sql\n",
    "SELECT i.product_id, t.product_category_name_english AS category, COUNT(i.product_id) AS qty, i.price AS price, ROUND(SUM(i.price),2) AS total_sum FROM order_items i \n",
    "LEFT JOIN orders o ON o.order_id=i.order_id\n",
    "LEFT JOIN products p ON i.product_id=p.product_id\n",
    "LEFT JOIN products_translation t ON p.product_category_name=t.product_category_name\n",
    "GROUP BY i.product_id\n",
    "ORDER BY total_sum DESC\n",
    "LIMIT 10;"
   ]
  },
  {
   "attachments": {},
   "cell_type": "markdown",
   "metadata": {},
   "source": [
    "In order to find products that brought in 80% of the revenue, it is best to add a 'running_total' column summing up the 'total_sum' revenue values from subsequent rows.  \n",
    "At the end of the query there is a WHERE statement where we select only those products that brought 80% of the revenue (when the 'running_total' value is less than or equal to 0.8 * total_revenue)."
   ]
  },
  {
   "cell_type": "code",
   "execution_count": 18,
   "metadata": {
    "vscode": {
     "languageId": "sql"
    }
   },
   "outputs": [
    {
     "name": "stdout",
     "output_type": "stream",
     "text": [
      " * sqlite:///olist.db\n",
      "Done.\n"
     ]
    },
    {
     "data": {
      "text/html": [
       "<table>\n",
       "    <thead>\n",
       "        <tr>\n",
       "            <th>product_id</th>\n",
       "            <th>category</th>\n",
       "            <th>total_sum</th>\n",
       "            <th>running_total</th>\n",
       "        </tr>\n",
       "    </thead>\n",
       "    <tbody>\n",
       "        <tr>\n",
       "            <td>bb50f2e236e5eea0100680137654686c</td>\n",
       "            <td>health_beauty</td>\n",
       "            <td>63885.0</td>\n",
       "            <td>63885.0</td>\n",
       "        </tr>\n",
       "        <tr>\n",
       "            <td>6cdd53843498f92890544667809f1595</td>\n",
       "            <td>health_beauty</td>\n",
       "            <td>54730.2</td>\n",
       "            <td>118615.2</td>\n",
       "        </tr>\n",
       "        <tr>\n",
       "            <td>d6160fb7873f184099d9bc95e30376af</td>\n",
       "            <td>computers</td>\n",
       "            <td>48899.34</td>\n",
       "            <td>167514.53999999998</td>\n",
       "        </tr>\n",
       "        <tr>\n",
       "            <td>d1c427060a0f73f6b889a5c7c61f2ac4</td>\n",
       "            <td>computers_accessories</td>\n",
       "            <td>47214.51</td>\n",
       "            <td>214729.05</td>\n",
       "        </tr>\n",
       "        <tr>\n",
       "            <td>99a4788cb24856965c36a24e339b6058</td>\n",
       "            <td>bed_bath_table</td>\n",
       "            <td>43025.56</td>\n",
       "            <td>257754.61</td>\n",
       "        </tr>\n",
       "        <tr>\n",
       "            <td>3dd2a17168ec895c781a9191c1e95ad7</td>\n",
       "            <td>computers_accessories</td>\n",
       "            <td>41082.6</td>\n",
       "            <td>298837.20999999996</td>\n",
       "        </tr>\n",
       "        <tr>\n",
       "            <td>25c38557cf793876c5abdd5931f922db</td>\n",
       "            <td>baby</td>\n",
       "            <td>38907.32</td>\n",
       "            <td>337744.52999999997</td>\n",
       "        </tr>\n",
       "        <tr>\n",
       "            <td>5f504b3a1c75b73d6151be81eb05bdc9</td>\n",
       "            <td>cool_stuff</td>\n",
       "            <td>37733.9</td>\n",
       "            <td>375478.43</td>\n",
       "        </tr>\n",
       "        <tr>\n",
       "            <td>53b36df67ebb7c41585e8d54d6772e08</td>\n",
       "            <td>watches_gifts</td>\n",
       "            <td>37683.42</td>\n",
       "            <td>413161.85</td>\n",
       "        </tr>\n",
       "        <tr>\n",
       "            <td>aca2eb7d00ea1a7b8ebd4e68314663af</td>\n",
       "            <td>furniture_decor</td>\n",
       "            <td>37608.9</td>\n",
       "            <td>450770.75</td>\n",
       "        </tr>\n",
       "    </tbody>\n",
       "</table>"
      ],
      "text/plain": [
       "[('bb50f2e236e5eea0100680137654686c', 'health_beauty', 63885.0, 63885.0),\n",
       " ('6cdd53843498f92890544667809f1595', 'health_beauty', 54730.2, 118615.2),\n",
       " ('d6160fb7873f184099d9bc95e30376af', 'computers', 48899.34, 167514.53999999998),\n",
       " ('d1c427060a0f73f6b889a5c7c61f2ac4', 'computers_accessories', 47214.51, 214729.05),\n",
       " ('99a4788cb24856965c36a24e339b6058', 'bed_bath_table', 43025.56, 257754.61),\n",
       " ('3dd2a17168ec895c781a9191c1e95ad7', 'computers_accessories', 41082.6, 298837.20999999996),\n",
       " ('25c38557cf793876c5abdd5931f922db', 'baby', 38907.32, 337744.52999999997),\n",
       " ('5f504b3a1c75b73d6151be81eb05bdc9', 'cool_stuff', 37733.9, 375478.43),\n",
       " ('53b36df67ebb7c41585e8d54d6772e08', 'watches_gifts', 37683.42, 413161.85),\n",
       " ('aca2eb7d00ea1a7b8ebd4e68314663af', 'furniture_decor', 37608.9, 450770.75)]"
      ]
     },
     "execution_count": 18,
     "metadata": {},
     "output_type": "execute_result"
    }
   ],
   "source": [
    "%%sql\n",
    "SELECT * FROM\n",
    "(SELECT *, SUM(a.total_sum) OVER (ORDER BY a.total_sum DESC) AS running_total FROM\n",
    "(SELECT i.product_id, t.product_category_name_english AS category, ROUND(SUM(i.price),2) AS total_sum FROM order_items i \n",
    "LEFT JOIN orders o ON o.order_id=i.order_id\n",
    "LEFT JOIN products p ON i.product_id=p.product_id\n",
    "LEFT JOIN products_translation t ON p.product_category_name=t.product_category_name\n",
    "GROUP BY i.product_id\n",
    "ORDER BY total_sum DESC) AS a)\n",
    "WHERE running_total <= ((SELECT SUM(price) FROM order_items)*0.8) \n",
    "LIMIT 10\n",
    ";"
   ]
  },
  {
   "attachments": {},
   "cell_type": "markdown",
   "metadata": {},
   "source": [
    "Now you can create a query that will display a simple table showing:\n",
    "- **revenue80_qty** - the number of products that bring 80% of the revenue\n",
    "- **revenue80_total** - 80% of total revenue\n",
    "- **all_products_qty** - number of all products in the store\n",
    "- **all_products_total** - total revenue in the store generated by all products\n",
    "- **ratio** - ratio of the number of products responsible for 80% of the revenue to the number of all products"
   ]
  },
  {
   "cell_type": "code",
   "execution_count": 28,
   "metadata": {
    "vscode": {
     "languageId": "sql"
    }
   },
   "outputs": [
    {
     "name": "stdout",
     "output_type": "stream",
     "text": [
      " * sqlite:///olist.db\n",
      "Done.\n"
     ]
    },
    {
     "data": {
      "text/html": [
       "<table>\n",
       "    <thead>\n",
       "        <tr>\n",
       "            <th>revenue80_qty</th>\n",
       "            <th>revenue80_total</th>\n",
       "            <th>all_products_qty</th>\n",
       "            <th>all_products_total</th>\n",
       "            <th>ratio</th>\n",
       "        </tr>\n",
       "    </thead>\n",
       "    <tbody>\n",
       "        <tr>\n",
       "            <td>8535</td>\n",
       "            <td>10873149.58</td>\n",
       "            <td>32951</td>\n",
       "            <td>13591643.7</td>\n",
       "            <td>0.259</td>\n",
       "        </tr>\n",
       "    </tbody>\n",
       "</table>"
      ],
      "text/plain": [
       "[(8535, 10873149.58, 32951, 13591643.7, 0.259)]"
      ]
     },
     "execution_count": 28,
     "metadata": {},
     "output_type": "execute_result"
    }
   ],
   "source": [
    "%%sql\n",
    "SELECT COUNT(product_id) AS revenue80_qty, ROUND(SUM(total_sum),2) AS revenue80_total, (SELECT COUNT(DISTINCT product_id) FROM order_items) AS all_products_qty, (SELECT ROUND(SUM(price),2) FROM order_items) AS all_products_total, ROUND(CAST(COUNT(product_id) AS FLOAT)/(SELECT COUNT(DISTINCT product_id) FROM order_items),3) AS ratio FROM\n",
    "(SELECT *, SUM(a.total_sum) OVER (ORDER BY a.total_sum DESC) AS running_total FROM\n",
    "(SELECT i.product_id, t.product_category_name_english AS category, ROUND(SUM(i.price),2) AS total_sum FROM order_items i \n",
    "LEFT JOIN orders o ON o.order_id=i.order_id\n",
    "LEFT JOIN products p ON i.product_id=p.product_id\n",
    "LEFT JOIN products_translation t ON p.product_category_name=t.product_category_name\n",
    "GROUP BY i.product_id\n",
    "ORDER BY total_sum DESC) AS a)\n",
    "WHERE running_total <= ((SELECT SUM(price) FROM order_items)*0.8) ;"
   ]
  },
  {
   "attachments": {},
   "cell_type": "markdown",
   "metadata": {},
   "source": [
    "As you can see, **26% of products generate 80% of the revenue**, so it can be assumed that the Pareto principle is very close in this case.\n",
    "\n",
    "Finally, there is a query that displays the TOP 10 categories along with the number of products sold and the total revenue within the product group that generates 80% of the revenue."
   ]
  },
  {
   "cell_type": "code",
   "execution_count": 26,
   "metadata": {
    "vscode": {
     "languageId": "sql"
    }
   },
   "outputs": [
    {
     "name": "stdout",
     "output_type": "stream",
     "text": [
      " * sqlite:///olist.db\n",
      "Done.\n"
     ]
    },
    {
     "data": {
      "text/html": [
       "<table>\n",
       "    <thead>\n",
       "        <tr>\n",
       "            <th>category</th>\n",
       "            <th>qty</th>\n",
       "            <th>total_revenue</th>\n",
       "        </tr>\n",
       "    </thead>\n",
       "    <tbody>\n",
       "        <tr>\n",
       "            <td>watches_gifts</td>\n",
       "            <td>676</td>\n",
       "            <td>1095544.0</td>\n",
       "        </tr>\n",
       "        <tr>\n",
       "            <td>health_beauty</td>\n",
       "            <td>645</td>\n",
       "            <td>1056490.0</td>\n",
       "        </tr>\n",
       "        <tr>\n",
       "            <td>computers_accessories</td>\n",
       "            <td>531</td>\n",
       "            <td>781816.0</td>\n",
       "        </tr>\n",
       "        <tr>\n",
       "            <td>bed_bath_table</td>\n",
       "            <td>692</td>\n",
       "            <td>754874.0</td>\n",
       "        </tr>\n",
       "        <tr>\n",
       "            <td>sports_leisure</td>\n",
       "            <td>730</td>\n",
       "            <td>744164.0</td>\n",
       "        </tr>\n",
       "        <tr>\n",
       "            <td>cool_stuff</td>\n",
       "            <td>330</td>\n",
       "            <td>571306.0</td>\n",
       "        </tr>\n",
       "        <tr>\n",
       "            <td>furniture_decor</td>\n",
       "            <td>479</td>\n",
       "            <td>478393.0</td>\n",
       "        </tr>\n",
       "        <tr>\n",
       "            <td>housewares</td>\n",
       "            <td>427</td>\n",
       "            <td>446603.0</td>\n",
       "        </tr>\n",
       "        <tr>\n",
       "            <td>auto</td>\n",
       "            <td>415</td>\n",
       "            <td>437100.0</td>\n",
       "        </tr>\n",
       "        <tr>\n",
       "            <td>garden_tools</td>\n",
       "            <td>264</td>\n",
       "            <td>431266.0</td>\n",
       "        </tr>\n",
       "    </tbody>\n",
       "</table>"
      ],
      "text/plain": [
       "[('watches_gifts', 676, 1095544.0),\n",
       " ('health_beauty', 645, 1056490.0),\n",
       " ('computers_accessories', 531, 781816.0),\n",
       " ('bed_bath_table', 692, 754874.0),\n",
       " ('sports_leisure', 730, 744164.0),\n",
       " ('cool_stuff', 330, 571306.0),\n",
       " ('furniture_decor', 479, 478393.0),\n",
       " ('housewares', 427, 446603.0),\n",
       " ('auto', 415, 437100.0),\n",
       " ('garden_tools', 264, 431266.0)]"
      ]
     },
     "execution_count": 26,
     "metadata": {},
     "output_type": "execute_result"
    }
   ],
   "source": [
    "%%sql\n",
    "SELECT category, COUNT(product_id) AS qty, ROUND(SUM(total_sum)) as total_revenue FROM\n",
    "(SELECT *, SUM(a.total_sum) OVER (ORDER BY a.total_sum DESC) AS running_total FROM\n",
    "(SELECT i.product_id, t.product_category_name_english AS category, ROUND(SUM(i.price),2) AS total_sum FROM order_items i \n",
    "LEFT JOIN orders o ON o.order_id=i.order_id\n",
    "LEFT JOIN products p ON i.product_id=p.product_id\n",
    "LEFT JOIN products_translation t ON p.product_category_name=t.product_category_name\n",
    "GROUP BY i.product_id\n",
    "ORDER BY total_sum DESC) AS a)\n",
    "WHERE running_total <= ((SELECT SUM(price) FROM order_items)*0.8) \n",
    "GROUP BY category\n",
    "ORDER BY total_revenue DESC\n",
    "LIMIT 10;"
   ]
  },
  {
   "attachments": {},
   "cell_type": "markdown",
   "metadata": {
    "vscode": {
     "languageId": "sql"
    }
   },
   "source": [
    "In this case, only watches_gifts and health_beauty products generated total revenues above RBL 1,000,000 respectively."
   ]
  }
 ],
 "metadata": {
  "kernelspec": {
   "display_name": "pysql",
   "language": "python",
   "name": "python3"
  },
  "language_info": {
   "codemirror_mode": {
    "name": "ipython",
    "version": 3
   },
   "file_extension": ".py",
   "mimetype": "text/x-python",
   "name": "python",
   "nbconvert_exporter": "python",
   "pygments_lexer": "ipython3",
   "version": "3.8.5"
  },
  "orig_nbformat": 4,
  "vscode": {
   "interpreter": {
    "hash": "09d6e341777874bbc0cfccde3c6d0224cb07a66fa0664d1a9bec1a0ff68020ff"
   }
  }
 },
 "nbformat": 4,
 "nbformat_minor": 2
}
