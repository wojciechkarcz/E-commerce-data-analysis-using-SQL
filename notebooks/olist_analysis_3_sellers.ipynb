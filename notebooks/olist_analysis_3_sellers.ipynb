{
 "cells": [
  {
   "attachments": {},
   "cell_type": "markdown",
   "metadata": {},
   "source": [
    "# Sellers\n",
    "\n",
    "Another category analyzed from the Olist dataset is sellers. The database even has a dedicated 'sellers' table with data on each seller. Olist is a marketplace platform that connects sellers directly with individual customers.\n",
    "\n",
    "In this analysis, we will look for an answer to the following questions:\n",
    "- How many sellers are on the platform and where are they from?\n",
    "- Who sells the most and what products?\n",
    "- What is the distribution of sellers in terms of revenue?\n"
   ]
  },
  {
   "attachments": {},
   "cell_type": "markdown",
   "metadata": {},
   "source": [
    "Importing Python libraries in order to make some possible visualizations."
   ]
  },
  {
   "cell_type": "code",
   "execution_count": 2,
   "metadata": {},
   "outputs": [],
   "source": [
    "import matplotlib.pyplot as plt\n",
    "import seaborn as sns\n",
    "import pandas as pd"
   ]
  },
  {
   "attachments": {},
   "cell_type": "markdown",
   "metadata": {},
   "source": [
    "Establishing connection to the database."
   ]
  },
  {
   "cell_type": "code",
   "execution_count": 1,
   "metadata": {
    "vscode": {
     "languageId": "sql"
    }
   },
   "outputs": [
    {
     "data": {
      "text/plain": [
       "'Connected: @data/olist.db'"
      ]
     },
     "execution_count": 1,
     "metadata": {},
     "output_type": "execute_result"
    }
   ],
   "source": [
    "%load_ext sql\n",
    "%sql sqlite:///data/olist.db"
   ]
  },
  {
   "attachments": {},
   "cell_type": "markdown",
   "metadata": {},
   "source": [
    "### How many sellers are on the platform and where are they from?\n",
    "\n",
    "Finding how many individual sellers are on the platform:"
   ]
  },
  {
   "cell_type": "code",
   "execution_count": 2,
   "metadata": {
    "vscode": {
     "languageId": "sql"
    }
   },
   "outputs": [
    {
     "name": "stdout",
     "output_type": "stream",
     "text": [
      " * sqlite:///olist.db\n",
      "Done.\n"
     ]
    },
    {
     "data": {
      "text/html": [
       "<table>\n",
       "    <thead>\n",
       "        <tr>\n",
       "            <th>sellers_number</th>\n",
       "        </tr>\n",
       "    </thead>\n",
       "    <tbody>\n",
       "        <tr>\n",
       "            <td>3095</td>\n",
       "        </tr>\n",
       "    </tbody>\n",
       "</table>"
      ],
      "text/plain": [
       "[(3095,)]"
      ]
     },
     "execution_count": 2,
     "metadata": {},
     "output_type": "execute_result"
    }
   ],
   "source": [
    "%%sql\n",
    "SELECT COUNT(DISTINCT seller_id) AS sellers_number FROM sellers;"
   ]
  },
  {
   "attachments": {},
   "cell_type": "markdown",
   "metadata": {},
   "source": [
    "TOP 10 cities in Brazil with the most sellers:"
   ]
  },
  {
   "cell_type": "code",
   "execution_count": 3,
   "metadata": {
    "vscode": {
     "languageId": "sql"
    }
   },
   "outputs": [
    {
     "name": "stdout",
     "output_type": "stream",
     "text": [
      " * sqlite:///olist.db\n",
      "Done.\n"
     ]
    },
    {
     "data": {
      "text/html": [
       "<table>\n",
       "    <thead>\n",
       "        <tr>\n",
       "            <th>seller_city</th>\n",
       "            <th>sellers_number</th>\n",
       "        </tr>\n",
       "    </thead>\n",
       "    <tbody>\n",
       "        <tr>\n",
       "            <td>sao paulo</td>\n",
       "            <td>694</td>\n",
       "        </tr>\n",
       "        <tr>\n",
       "            <td>curitiba</td>\n",
       "            <td>127</td>\n",
       "        </tr>\n",
       "        <tr>\n",
       "            <td>rio de janeiro</td>\n",
       "            <td>96</td>\n",
       "        </tr>\n",
       "        <tr>\n",
       "            <td>belo horizonte</td>\n",
       "            <td>68</td>\n",
       "        </tr>\n",
       "        <tr>\n",
       "            <td>ribeirao preto</td>\n",
       "            <td>52</td>\n",
       "        </tr>\n",
       "        <tr>\n",
       "            <td>guarulhos</td>\n",
       "            <td>50</td>\n",
       "        </tr>\n",
       "        <tr>\n",
       "            <td>ibitinga</td>\n",
       "            <td>49</td>\n",
       "        </tr>\n",
       "        <tr>\n",
       "            <td>santo andre</td>\n",
       "            <td>45</td>\n",
       "        </tr>\n",
       "        <tr>\n",
       "            <td>campinas</td>\n",
       "            <td>41</td>\n",
       "        </tr>\n",
       "        <tr>\n",
       "            <td>maringa</td>\n",
       "            <td>40</td>\n",
       "        </tr>\n",
       "    </tbody>\n",
       "</table>"
      ],
      "text/plain": [
       "[('sao paulo', 694),\n",
       " ('curitiba', 127),\n",
       " ('rio de janeiro', 96),\n",
       " ('belo horizonte', 68),\n",
       " ('ribeirao preto', 52),\n",
       " ('guarulhos', 50),\n",
       " ('ibitinga', 49),\n",
       " ('santo andre', 45),\n",
       " ('campinas', 41),\n",
       " ('maringa', 40)]"
      ]
     },
     "execution_count": 3,
     "metadata": {},
     "output_type": "execute_result"
    }
   ],
   "source": [
    "%%sql\n",
    "SELECT seller_city, COUNT(DISTINCT seller_id) AS sellers_number FROM sellers\n",
    "GROUP BY seller_city\n",
    "ORDER BY sellers_number DESC\n",
    "LIMIT 10; "
   ]
  },
  {
   "attachments": {},
   "cell_type": "markdown",
   "metadata": {},
   "source": [
    "How many different cities are the sellers from:"
   ]
  },
  {
   "cell_type": "code",
   "execution_count": 4,
   "metadata": {
    "vscode": {
     "languageId": "sql"
    }
   },
   "outputs": [
    {
     "name": "stdout",
     "output_type": "stream",
     "text": [
      " * sqlite:///olist.db\n",
      "Done.\n"
     ]
    },
    {
     "data": {
      "text/html": [
       "<table>\n",
       "    <thead>\n",
       "        <tr>\n",
       "            <th>city_number</th>\n",
       "        </tr>\n",
       "    </thead>\n",
       "    <tbody>\n",
       "        <tr>\n",
       "            <td>611</td>\n",
       "        </tr>\n",
       "    </tbody>\n",
       "</table>"
      ],
      "text/plain": [
       "[(611,)]"
      ]
     },
     "execution_count": 4,
     "metadata": {},
     "output_type": "execute_result"
    }
   ],
   "source": [
    "%%sql\n",
    "SELECT COUNT(DISTINCT seller_city) AS city_number FROM sellers;"
   ]
  },
  {
   "attachments": {},
   "cell_type": "markdown",
   "metadata": {},
   "source": [
    "### Who sells the most and what products?\n",
    "\n",
    "Below is a list of the TOP 10 sellers in terms of total revenue on the platform. The table also contains information about the amount of all products sold, the city and state of the seller."
   ]
  },
  {
   "cell_type": "code",
   "execution_count": 44,
   "metadata": {
    "vscode": {
     "languageId": "sql"
    }
   },
   "outputs": [
    {
     "name": "stdout",
     "output_type": "stream",
     "text": [
      " * sqlite:///olist.db\n",
      "Done.\n"
     ]
    },
    {
     "data": {
      "text/html": [
       "<table>\n",
       "    <thead>\n",
       "        <tr>\n",
       "            <th>seller_id</th>\n",
       "            <th>products_sold</th>\n",
       "            <th>seller_city</th>\n",
       "            <th>seller_state</th>\n",
       "            <th>total_revenue</th>\n",
       "        </tr>\n",
       "    </thead>\n",
       "    <tbody>\n",
       "        <tr>\n",
       "            <td>4869f7a5dfa277a7dca6462dcf3b52b2</td>\n",
       "            <td>1156</td>\n",
       "            <td>guariba</td>\n",
       "            <td>SP</td>\n",
       "            <td>229472.63</td>\n",
       "        </tr>\n",
       "        <tr>\n",
       "            <td>53243585a1d6dc2643021fd1853d8905</td>\n",
       "            <td>410</td>\n",
       "            <td>lauro de freitas</td>\n",
       "            <td>BA</td>\n",
       "            <td>222776.05</td>\n",
       "        </tr>\n",
       "        <tr>\n",
       "            <td>4a3ca9315b744ce9f8e9374361493884</td>\n",
       "            <td>1987</td>\n",
       "            <td>ibitinga</td>\n",
       "            <td>SP</td>\n",
       "            <td>200472.92</td>\n",
       "        </tr>\n",
       "        <tr>\n",
       "            <td>fa1c13f2614d7b5c4749cbc52fecda94</td>\n",
       "            <td>586</td>\n",
       "            <td>sumare</td>\n",
       "            <td>SP</td>\n",
       "            <td>194042.03</td>\n",
       "        </tr>\n",
       "        <tr>\n",
       "            <td>7c67e1448b00f6e969d365cea6b010ab</td>\n",
       "            <td>1364</td>\n",
       "            <td>itaquaquecetuba</td>\n",
       "            <td>SP</td>\n",
       "            <td>187923.89</td>\n",
       "        </tr>\n",
       "        <tr>\n",
       "            <td>7e93a43ef30c4f03f38b393420bc753a</td>\n",
       "            <td>340</td>\n",
       "            <td>barueri</td>\n",
       "            <td>SP</td>\n",
       "            <td>176431.87</td>\n",
       "        </tr>\n",
       "        <tr>\n",
       "            <td>da8622b14eb17ae2831f4ac5b9dab84a</td>\n",
       "            <td>1551</td>\n",
       "            <td>piracicaba</td>\n",
       "            <td>SP</td>\n",
       "            <td>160236.57</td>\n",
       "        </tr>\n",
       "        <tr>\n",
       "            <td>7a67c85e85bb2ce8582c35f2203ad736</td>\n",
       "            <td>1171</td>\n",
       "            <td>sao paulo</td>\n",
       "            <td>SP</td>\n",
       "            <td>141745.53</td>\n",
       "        </tr>\n",
       "        <tr>\n",
       "            <td>1025f0e2d44d7041d6cf58b6550e0bfa</td>\n",
       "            <td>1428</td>\n",
       "            <td>sao paulo</td>\n",
       "            <td>SP</td>\n",
       "            <td>138968.55</td>\n",
       "        </tr>\n",
       "        <tr>\n",
       "            <td>955fee9216a65b617aa5c0531780ce60</td>\n",
       "            <td>1499</td>\n",
       "            <td>sao paulo</td>\n",
       "            <td>SP</td>\n",
       "            <td>135171.7</td>\n",
       "        </tr>\n",
       "    </tbody>\n",
       "</table>"
      ],
      "text/plain": [
       "[('4869f7a5dfa277a7dca6462dcf3b52b2', 1156, 'guariba', 'SP', 229472.63),\n",
       " ('53243585a1d6dc2643021fd1853d8905', 410, 'lauro de freitas', 'BA', 222776.05),\n",
       " ('4a3ca9315b744ce9f8e9374361493884', 1987, 'ibitinga', 'SP', 200472.92),\n",
       " ('fa1c13f2614d7b5c4749cbc52fecda94', 586, 'sumare', 'SP', 194042.03),\n",
       " ('7c67e1448b00f6e969d365cea6b010ab', 1364, 'itaquaquecetuba', 'SP', 187923.89),\n",
       " ('7e93a43ef30c4f03f38b393420bc753a', 340, 'barueri', 'SP', 176431.87),\n",
       " ('da8622b14eb17ae2831f4ac5b9dab84a', 1551, 'piracicaba', 'SP', 160236.57),\n",
       " ('7a67c85e85bb2ce8582c35f2203ad736', 1171, 'sao paulo', 'SP', 141745.53),\n",
       " ('1025f0e2d44d7041d6cf58b6550e0bfa', 1428, 'sao paulo', 'SP', 138968.55),\n",
       " ('955fee9216a65b617aa5c0531780ce60', 1499, 'sao paulo', 'SP', 135171.7)]"
      ]
     },
     "execution_count": 44,
     "metadata": {},
     "output_type": "execute_result"
    }
   ],
   "source": [
    "%%sql \n",
    "SELECT o.seller_id, COUNT(product_id) AS products_sold, seller_city, seller_state, ROUND(SUM(price),2) AS total_revenue FROM order_items o \n",
    "LEFT JOIN sellers s ON o.seller_id=s.seller_id \n",
    "GROUP BY o.seller_id\n",
    "ORDER BY total_revenue DESC\n",
    "LIMIT 10; "
   ]
  },
  {
   "attachments": {},
   "cell_type": "markdown",
   "metadata": {},
   "source": [
    "Another interesting information is the most profitable category for each seller, the number of products in this category and the total revenue generated by these products.  \n",
    "For example, the top seller (id ending with *'b2'*) made the vast majority of his sales in the watches_gifts category."
   ]
  },
  {
   "cell_type": "code",
   "execution_count": 41,
   "metadata": {
    "vscode": {
     "languageId": "sql"
    }
   },
   "outputs": [
    {
     "name": "stdout",
     "output_type": "stream",
     "text": [
      " * sqlite:///olist.db\n",
      "Done.\n"
     ]
    },
    {
     "data": {
      "text/html": [
       "<table>\n",
       "    <thead>\n",
       "        <tr>\n",
       "            <th>seller_id</th>\n",
       "            <th>category</th>\n",
       "            <th>products_sold</th>\n",
       "            <th>total_revenue</th>\n",
       "        </tr>\n",
       "    </thead>\n",
       "    <tbody>\n",
       "        <tr>\n",
       "            <td>4869f7a5dfa277a7dca6462dcf3b52b2</td>\n",
       "            <td>watches_gifts</td>\n",
       "            <td>1002</td>\n",
       "            <td>201071.73</td>\n",
       "        </tr>\n",
       "        <tr>\n",
       "            <td>fa1c13f2614d7b5c4749cbc52fecda94</td>\n",
       "            <td>watches_gifts</td>\n",
       "            <td>579</td>\n",
       "            <td>192092.74</td>\n",
       "        </tr>\n",
       "        <tr>\n",
       "            <td>7c67e1448b00f6e969d365cea6b010ab</td>\n",
       "            <td>office_furniture</td>\n",
       "            <td>1233</td>\n",
       "            <td>172959.66</td>\n",
       "        </tr>\n",
       "        <tr>\n",
       "            <td>7e93a43ef30c4f03f38b393420bc753a</td>\n",
       "            <td>watches_gifts</td>\n",
       "            <td>314</td>\n",
       "            <td>169768.06</td>\n",
       "        </tr>\n",
       "        <tr>\n",
       "            <td>53243585a1d6dc2643021fd1853d8905</td>\n",
       "            <td>computers</td>\n",
       "            <td>153</td>\n",
       "            <td>166871.75</td>\n",
       "        </tr>\n",
       "        <tr>\n",
       "            <td>4a3ca9315b744ce9f8e9374361493884</td>\n",
       "            <td>bed_bath_table</td>\n",
       "            <td>1572</td>\n",
       "            <td>165219.25</td>\n",
       "        </tr>\n",
       "        <tr>\n",
       "            <td>da8622b14eb17ae2831f4ac5b9dab84a</td>\n",
       "            <td>bed_bath_table</td>\n",
       "            <td>1277</td>\n",
       "            <td>152307.8</td>\n",
       "        </tr>\n",
       "        <tr>\n",
       "            <td>7a67c85e85bb2ce8582c35f2203ad736</td>\n",
       "            <td>cool_stuff</td>\n",
       "            <td>1069</td>\n",
       "            <td>135413.55</td>\n",
       "        </tr>\n",
       "        <tr>\n",
       "            <td>1025f0e2d44d7041d6cf58b6550e0bfa</td>\n",
       "            <td>furniture_decor</td>\n",
       "            <td>1292</td>\n",
       "            <td>111530.45</td>\n",
       "        </tr>\n",
       "        <tr>\n",
       "            <td>1f50f920176fa81dab994f9023523100</td>\n",
       "            <td>garden_tools</td>\n",
       "            <td>1882</td>\n",
       "            <td>103133.11</td>\n",
       "        </tr>\n",
       "    </tbody>\n",
       "</table>"
      ],
      "text/plain": [
       "[('4869f7a5dfa277a7dca6462dcf3b52b2', 'watches_gifts', 1002, 201071.73),\n",
       " ('fa1c13f2614d7b5c4749cbc52fecda94', 'watches_gifts', 579, 192092.74),\n",
       " ('7c67e1448b00f6e969d365cea6b010ab', 'office_furniture', 1233, 172959.66),\n",
       " ('7e93a43ef30c4f03f38b393420bc753a', 'watches_gifts', 314, 169768.06),\n",
       " ('53243585a1d6dc2643021fd1853d8905', 'computers', 153, 166871.75),\n",
       " ('4a3ca9315b744ce9f8e9374361493884', 'bed_bath_table', 1572, 165219.25),\n",
       " ('da8622b14eb17ae2831f4ac5b9dab84a', 'bed_bath_table', 1277, 152307.8),\n",
       " ('7a67c85e85bb2ce8582c35f2203ad736', 'cool_stuff', 1069, 135413.55),\n",
       " ('1025f0e2d44d7041d6cf58b6550e0bfa', 'furniture_decor', 1292, 111530.45),\n",
       " ('1f50f920176fa81dab994f9023523100', 'garden_tools', 1882, 103133.11)]"
      ]
     },
     "execution_count": 41,
     "metadata": {},
     "output_type": "execute_result"
    }
   ],
   "source": [
    "%%sql\n",
    "SELECT seller_id, category, products_sold, total_revenue FROM\n",
    "(SELECT *, RANK () OVER (\n",
    "    PARTITION BY a.seller_id \n",
    "    ORDER BY a.total_revenue DESC) \n",
    "    revenue_rank FROM\n",
    "(SELECT o.seller_id, t.product_category_name_english AS category, COUNT(o.product_id) AS products_sold, ROUND(SUM(o.price),2) AS total_revenue FROM order_items o\n",
    "LEFT JOIN products p ON o.product_id=p.product_id\n",
    "LEFT JOIN products_translation t ON p.product_category_name=t.product_category_name\n",
    "GROUP BY o.seller_id, p.product_category_name) as a)\n",
    "WHERE revenue_rank=1\n",
    "ORDER BY total_revenue DESC\n",
    "LIMIT 10;"
   ]
  },
  {
   "attachments": {},
   "cell_type": "markdown",
   "metadata": {},
   "source": [
    "We can also check the ranking of the TOP 3 sellers each year along with the total revenue."
   ]
  },
  {
   "cell_type": "code",
   "execution_count": 4,
   "metadata": {
    "vscode": {
     "languageId": "sql"
    }
   },
   "outputs": [
    {
     "name": "stdout",
     "output_type": "stream",
     "text": [
      " * sqlite:///data/olist.db\n",
      "Done.\n"
     ]
    },
    {
     "data": {
      "text/html": [
       "<table>\n",
       "    <thead>\n",
       "        <tr>\n",
       "            <th>year</th>\n",
       "            <th>seller_id</th>\n",
       "            <th>revenue_rank</th>\n",
       "            <th>total_revenue</th>\n",
       "        </tr>\n",
       "    </thead>\n",
       "    <tbody>\n",
       "        <tr>\n",
       "            <td>2016</td>\n",
       "            <td>620c87c171fb2a6dd6e8bb4dec959fc6</td>\n",
       "            <td>1</td>\n",
       "            <td>5797.1</td>\n",
       "        </tr>\n",
       "        <tr>\n",
       "            <td>2016</td>\n",
       "            <td>822b63912576852aea9a8436d72317b7</td>\n",
       "            <td>2</td>\n",
       "            <td>2849.97</td>\n",
       "        </tr>\n",
       "        <tr>\n",
       "            <td>2016</td>\n",
       "            <td>46dc3b2cc0980fb8ec44634e21d2718e</td>\n",
       "            <td>3</td>\n",
       "            <td>2344.89</td>\n",
       "        </tr>\n",
       "        <tr>\n",
       "            <td>2017</td>\n",
       "            <td>53243585a1d6dc2643021fd1853d8905</td>\n",
       "            <td>1</td>\n",
       "            <td>181113.92</td>\n",
       "        </tr>\n",
       "        <tr>\n",
       "            <td>2017</td>\n",
       "            <td>7e93a43ef30c4f03f38b393420bc753a</td>\n",
       "            <td>2</td>\n",
       "            <td>159389.13</td>\n",
       "        </tr>\n",
       "        <tr>\n",
       "            <td>2017</td>\n",
       "            <td>4a3ca9315b744ce9f8e9374361493884</td>\n",
       "            <td>3</td>\n",
       "            <td>127584.77</td>\n",
       "        </tr>\n",
       "        <tr>\n",
       "            <td>2018</td>\n",
       "            <td>4869f7a5dfa277a7dca6462dcf3b52b2</td>\n",
       "            <td>1</td>\n",
       "            <td>138414.6</td>\n",
       "        </tr>\n",
       "        <tr>\n",
       "            <td>2018</td>\n",
       "            <td>955fee9216a65b617aa5c0531780ce60</td>\n",
       "            <td>2</td>\n",
       "            <td>117340.86</td>\n",
       "        </tr>\n",
       "        <tr>\n",
       "            <td>2018</td>\n",
       "            <td>7d13fca15225358621be4086e1eb0964</td>\n",
       "            <td>3</td>\n",
       "            <td>113628.97</td>\n",
       "        </tr>\n",
       "    </tbody>\n",
       "</table>"
      ],
      "text/plain": [
       "[('2016', '620c87c171fb2a6dd6e8bb4dec959fc6', 1, 5797.1),\n",
       " ('2016', '822b63912576852aea9a8436d72317b7', 2, 2849.97),\n",
       " ('2016', '46dc3b2cc0980fb8ec44634e21d2718e', 3, 2344.89),\n",
       " ('2017', '53243585a1d6dc2643021fd1853d8905', 1, 181113.92),\n",
       " ('2017', '7e93a43ef30c4f03f38b393420bc753a', 2, 159389.13),\n",
       " ('2017', '4a3ca9315b744ce9f8e9374361493884', 3, 127584.77),\n",
       " ('2018', '4869f7a5dfa277a7dca6462dcf3b52b2', 1, 138414.6),\n",
       " ('2018', '955fee9216a65b617aa5c0531780ce60', 2, 117340.86),\n",
       " ('2018', '7d13fca15225358621be4086e1eb0964', 3, 113628.97)]"
      ]
     },
     "execution_count": 4,
     "metadata": {},
     "output_type": "execute_result"
    }
   ],
   "source": [
    "%%sql\n",
    "SELECT year, seller_id, revenue_rank, total_revenue FROM\n",
    "(SELECT *, RANK () OVER (\n",
    "    PARTITION BY a.year \n",
    "    ORDER BY a.total_revenue DESC) \n",
    "    revenue_rank FROM\n",
    "(SELECT STRFTIME(\"%Y\",o.order_purchase_timestamp) AS year, i.seller_id, ROUND(SUM(i.price),2) AS total_revenue FROM order_items i\n",
    "LEFT JOIN orders o ON i.order_id=o.order_id\n",
    "LEFT JOIN products p ON i.product_id=p.product_id\n",
    "GROUP BY STRFTIME(\"%Y\",o.order_purchase_timestamp), i.seller_id) as a)\n",
    "WHERE revenue_rank <= 3\n",
    "ORDER BY year, revenue_rank;"
   ]
  },
  {
   "attachments": {},
   "cell_type": "markdown",
   "metadata": {},
   "source": [
    "Korzystając z poprzedniego zapytania można zgrupować dane względem roku, id sprzedawcy i kategorii produktu. Dzięki temu można sprawdzić w tabeli, jakie trzy kategorie wygenerowały największy przychód w każdym roku dla najlepszych sprzedawców. "
   ]
  },
  {
   "cell_type": "code",
   "execution_count": 3,
   "metadata": {
    "vscode": {
     "languageId": "sql"
    }
   },
   "outputs": [
    {
     "name": "stdout",
     "output_type": "stream",
     "text": [
      " * sqlite:///data/olist.db\n",
      "Done.\n"
     ]
    },
    {
     "data": {
      "text/html": [
       "<table>\n",
       "    <thead>\n",
       "        <tr>\n",
       "            <th>year</th>\n",
       "            <th>seller_id</th>\n",
       "            <th>revenue_rank</th>\n",
       "            <th>category</th>\n",
       "            <th>total_revenue</th>\n",
       "        </tr>\n",
       "    </thead>\n",
       "    <tbody>\n",
       "        <tr>\n",
       "            <td>2016</td>\n",
       "            <td>620c87c171fb2a6dd6e8bb4dec959fc6</td>\n",
       "            <td>1</td>\n",
       "            <td>perfumery</td>\n",
       "            <td>5407.5</td>\n",
       "        </tr>\n",
       "        <tr>\n",
       "            <td>2016</td>\n",
       "            <td>822b63912576852aea9a8436d72317b7</td>\n",
       "            <td>2</td>\n",
       "            <td>consoles_games</td>\n",
       "            <td>2849.97</td>\n",
       "        </tr>\n",
       "        <tr>\n",
       "            <td>2016</td>\n",
       "            <td>4d600e08ecbe08258c79e536c5a42fee</td>\n",
       "            <td>3</td>\n",
       "            <td>watches_gifts</td>\n",
       "            <td>1931.34</td>\n",
       "        </tr>\n",
       "        <tr>\n",
       "            <td>2017</td>\n",
       "            <td>7e93a43ef30c4f03f38b393420bc753a</td>\n",
       "            <td>1</td>\n",
       "            <td>watches_gifts</td>\n",
       "            <td>154299.28</td>\n",
       "        </tr>\n",
       "        <tr>\n",
       "            <td>2017</td>\n",
       "            <td>53243585a1d6dc2643021fd1853d8905</td>\n",
       "            <td>2</td>\n",
       "            <td>computers</td>\n",
       "            <td>147481.82</td>\n",
       "        </tr>\n",
       "        <tr>\n",
       "            <td>2017</td>\n",
       "            <td>4a3ca9315b744ce9f8e9374361493884</td>\n",
       "            <td>3</td>\n",
       "            <td>bed_bath_table</td>\n",
       "            <td>104082.49</td>\n",
       "        </tr>\n",
       "        <tr>\n",
       "            <td>2018</td>\n",
       "            <td>4869f7a5dfa277a7dca6462dcf3b52b2</td>\n",
       "            <td>1</td>\n",
       "            <td>watches_gifts</td>\n",
       "            <td>119027.0</td>\n",
       "        </tr>\n",
       "        <tr>\n",
       "            <td>2018</td>\n",
       "            <td>fa1c13f2614d7b5c4749cbc52fecda94</td>\n",
       "            <td>2</td>\n",
       "            <td>watches_gifts</td>\n",
       "            <td>94043.73</td>\n",
       "        </tr>\n",
       "        <tr>\n",
       "            <td>2018</td>\n",
       "            <td>7d13fca15225358621be4086e1eb0964</td>\n",
       "            <td>3</td>\n",
       "            <td>watches_gifts</td>\n",
       "            <td>90112.07</td>\n",
       "        </tr>\n",
       "    </tbody>\n",
       "</table>"
      ],
      "text/plain": [
       "[('2016', '620c87c171fb2a6dd6e8bb4dec959fc6', 1, 'perfumery', 5407.5),\n",
       " ('2016', '822b63912576852aea9a8436d72317b7', 2, 'consoles_games', 2849.97),\n",
       " ('2016', '4d600e08ecbe08258c79e536c5a42fee', 3, 'watches_gifts', 1931.34),\n",
       " ('2017', '7e93a43ef30c4f03f38b393420bc753a', 1, 'watches_gifts', 154299.28),\n",
       " ('2017', '53243585a1d6dc2643021fd1853d8905', 2, 'computers', 147481.82),\n",
       " ('2017', '4a3ca9315b744ce9f8e9374361493884', 3, 'bed_bath_table', 104082.49),\n",
       " ('2018', '4869f7a5dfa277a7dca6462dcf3b52b2', 1, 'watches_gifts', 119027.0),\n",
       " ('2018', 'fa1c13f2614d7b5c4749cbc52fecda94', 2, 'watches_gifts', 94043.73),\n",
       " ('2018', '7d13fca15225358621be4086e1eb0964', 3, 'watches_gifts', 90112.07)]"
      ]
     },
     "execution_count": 3,
     "metadata": {},
     "output_type": "execute_result"
    }
   ],
   "source": [
    "%%sql\n",
    "SELECT year, seller_id, revenue_rank, category, total_revenue FROM\n",
    "(SELECT *, RANK () OVER (\n",
    "    PARTITION BY a.year \n",
    "    ORDER BY a.total_revenue DESC) \n",
    "    revenue_rank FROM\n",
    "(SELECT STRFTIME(\"%Y\",o.order_purchase_timestamp) AS year, i.seller_id, t.product_category_name_english AS category, ROUND(SUM(i.price),2) AS total_revenue FROM order_items i\n",
    "LEFT JOIN orders o ON i.order_id=o.order_id\n",
    "LEFT JOIN products p ON i.product_id=p.product_id\n",
    "LEFT JOIN products_translation t ON p.product_category_name=t.product_category_name\n",
    "GROUP BY STRFTIME(\"%Y\",o.order_purchase_timestamp), i.seller_id, p.product_category_name) as a)\n",
    "WHERE revenue_rank <= 3\n",
    "ORDER BY year ASC, total_revenue DESC;"
   ]
  },
  {
   "attachments": {},
   "cell_type": "markdown",
   "metadata": {},
   "source": [
    "### What is the distribution of sellers in terms of revenue?"
   ]
  },
  {
   "attachments": {},
   "cell_type": "markdown",
   "metadata": {},
   "source": [
    "Using the seaborn and pandas libraries, you can easily create a histogram with the distribution of the total revenue of each seller."
   ]
  },
  {
   "cell_type": "code",
   "execution_count": 6,
   "metadata": {},
   "outputs": [
    {
     "name": "stdout",
     "output_type": "stream",
     "text": [
      " * sqlite:///data/olist.db\n",
      "Done.\n"
     ]
    },
    {
     "data": {
      "text/plain": [
       "<AxesSubplot: xlabel='revenue', ylabel='Count'>"
      ]
     },
     "execution_count": 6,
     "metadata": {},
     "output_type": "execute_result"
    },
    {
     "data": {
      "image/png": "[encoded data removed]",
      "text/plain": [
       "<Figure size 800x400 with 1 Axes>"
      ]
     },
     "metadata": {},
     "output_type": "display_data"
    }
   ],
   "source": [
    "data = %sql SELECT ROUND(SUM(price),2) as revenue FROM order_items GROUP BY seller_id;\n",
    "\n",
    "data = data.DataFrame()\n",
    "\n",
    "plt.figure(figsize = (8,4))\n",
    "sns.histplot(data, bins=100, log_scale=False, x='revenue')"
   ]
  },
  {
   "attachments": {},
   "cell_type": "markdown",
   "metadata": {},
   "source": [
    "Individual top seller results are not visible in the histogram. Therefore, we will narrow down the area to see more precisely what is happening in the lower ranges."
   ]
  },
  {
   "cell_type": "code",
   "execution_count": 8,
   "metadata": {},
   "outputs": [
    {
     "data": {
      "text/plain": [
       "<AxesSubplot: xlabel='revenue', ylabel='Count'>"
      ]
     },
     "execution_count": 8,
     "metadata": {},
     "output_type": "execute_result"
    },
    {
     "data": {
      "image/png": "[encoded data removed]",
      "text/plain": [
       "<Figure size 800x400 with 1 Axes>"
      ]
     },
     "metadata": {},
     "output_type": "display_data"
    }
   ],
   "source": [
    "plt.figure(figsize = (8,4))\n",
    "sns.histplot(data, bins=100, binrange=(0,10000), log_scale=False, x='revenue')"
   ]
  },
  {
   "attachments": {},
   "cell_type": "markdown",
   "metadata": {},
   "source": [
    "As you can see, the vast majority of sellers achieve total revenues on the platform at a level lower than 2000 RBL, and the largest group has the lowest revenues.\n",
    "\n",
    "Finally, let's check how many sellers are with revenues above RBL 10,000.."
   ]
  },
  {
   "cell_type": "code",
   "execution_count": 16,
   "metadata": {
    "vscode": {
     "languageId": "sql"
    }
   },
   "outputs": [
    {
     "name": "stdout",
     "output_type": "stream",
     "text": [
      " * sqlite:///data/olist.db\n",
      "Done.\n"
     ]
    },
    {
     "data": {
      "text/html": [
       "<table>\n",
       "    <thead>\n",
       "        <tr>\n",
       "            <th>sellers_10k</th>\n",
       "        </tr>\n",
       "    </thead>\n",
       "    <tbody>\n",
       "        <tr>\n",
       "            <td>292</td>\n",
       "        </tr>\n",
       "    </tbody>\n",
       "</table>"
      ],
      "text/plain": [
       "[(292,)]"
      ]
     },
     "execution_count": 16,
     "metadata": {},
     "output_type": "execute_result"
    }
   ],
   "source": [
    "%%sql \n",
    "SELECT COUNT(seller_id) AS sellers_10k FROM \n",
    "(SELECT o.seller_id, ROUND(SUM(price),2) AS total_revenue FROM order_items o \n",
    "LEFT JOIN sellers s ON o.seller_id=s.seller_id \n",
    "GROUP BY o.seller_id) as a\n",
    "WHERE total_revenue > 10000\n",
    "; "
   ]
  }
 ],
 "metadata": {
  "kernelspec": {
   "display_name": "pysql",
   "language": "python",
   "name": "python3"
  },
  "language_info": {
   "codemirror_mode": {
    "name": "ipython",
    "version": 3
   },
   "file_extension": ".py",
   "mimetype": "text/x-python",
   "name": "python",
   "nbconvert_exporter": "python",
   "pygments_lexer": "ipython3",
   "version": "3.8.5"
  },
  "orig_nbformat": 4,
  "vscode": {
   "interpreter": {
    "hash": "09d6e341777874bbc0cfccde3c6d0224cb07a66fa0664d1a9bec1a0ff68020ff"
   }
  }
 },
 "nbformat": 4,
 "nbformat_minor": 2
}
