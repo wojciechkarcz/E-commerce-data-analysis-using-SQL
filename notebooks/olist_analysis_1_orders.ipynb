{
 "cells": [
  {
   "attachments": {},
   "cell_type": "markdown",
   "metadata": {},
   "source": [
    "# Orders and payments\n",
    "\n",
    "We start the data analysis by looking at the orders and payments made by customers of the Olist store. In this notebook I will try to find answers to such questions:\n",
    "- How many orders were and what was their distribution over time?\n",
    "- Orders of what value have not been delivered to the customer?\n",
    "- Which product categories generated the most revenue?\n",
    "- What revenue did the store generate over the entire period (2016-18)?\n",
    "- What was the average order value and what is their distribution?"
   ]
  },
  {
   "attachments": {},
   "cell_type": "markdown",
   "metadata": {},
   "source": [
    "Importing Python libraries in order to make some possible visualizations."
   ]
  },
  {
   "cell_type": "code",
   "execution_count": 1,
   "metadata": {},
   "outputs": [],
   "source": [
    "import matplotlib.pyplot as plt\n",
    "import seaborn as sns\n",
    "import pandas as pd"
   ]
  },
  {
   "attachments": {},
   "cell_type": "markdown",
   "metadata": {},
   "source": [
    "To create SQL queries we will use the so-called Jupyter line magics. First you need to connect to the database."
   ]
  },
  {
   "cell_type": "code",
   "execution_count": 2,
   "metadata": {
    "vscode": {
     "languageId": "sql"
    }
   },
   "outputs": [
    {
     "data": {
      "text/plain": [
       "'Connected: @data/olist.db'"
      ]
     },
     "execution_count": 2,
     "metadata": {},
     "output_type": "execute_result"
    }
   ],
   "source": [
    "%load_ext sql\n",
    "%sql sqlite:///data/olist.db"
   ]
  },
  {
   "attachments": {},
   "cell_type": "markdown",
   "metadata": {},
   "source": [
    "Let's check what tables are in the database"
   ]
  },
  {
   "cell_type": "code",
   "execution_count": 3,
   "metadata": {
    "vscode": {
     "languageId": "sql"
    }
   },
   "outputs": [
    {
     "name": "stdout",
     "output_type": "stream",
     "text": [
      " * sqlite:///data/olist.db\n",
      "Done.\n"
     ]
    },
    {
     "data": {
      "text/html": [
       "<table>\n",
       "    <thead>\n",
       "        <tr>\n",
       "            <th>name</th>\n",
       "        </tr>\n",
       "    </thead>\n",
       "    <tbody>\n",
       "        <tr>\n",
       "            <td>sellers</td>\n",
       "        </tr>\n",
       "        <tr>\n",
       "            <td>orders</td>\n",
       "        </tr>\n",
       "        <tr>\n",
       "            <td>order_payments</td>\n",
       "        </tr>\n",
       "        <tr>\n",
       "            <td>order_items</td>\n",
       "        </tr>\n",
       "        <tr>\n",
       "            <td>customers</td>\n",
       "        </tr>\n",
       "        <tr>\n",
       "            <td>products</td>\n",
       "        </tr>\n",
       "        <tr>\n",
       "            <td>products_translation</td>\n",
       "        </tr>\n",
       "        <tr>\n",
       "            <td>reviews</td>\n",
       "        </tr>\n",
       "    </tbody>\n",
       "</table>"
      ],
      "text/plain": [
       "[('sellers',),\n",
       " ('orders',),\n",
       " ('order_payments',),\n",
       " ('order_items',),\n",
       " ('customers',),\n",
       " ('products',),\n",
       " ('products_translation',),\n",
       " ('reviews',)]"
      ]
     },
     "execution_count": 3,
     "metadata": {},
     "output_type": "execute_result"
    }
   ],
   "source": [
    "%%sql\n",
    "SELECT name FROM sqlite_master WHERE type='table';"
   ]
  },
  {
   "attachments": {},
   "cell_type": "markdown",
   "metadata": {},
   "source": [
    "For the analysis in this notebook, we will use the tables:\n",
    "- 'orders'\n",
    "- 'order_items'\n",
    "- 'order_payments\n",
    "- 'products'\n",
    "- 'products_translation'\n",
    "\n",
    "Below is a brief overview of what the data looks like:"
   ]
  },
  {
   "cell_type": "code",
   "execution_count": 11,
   "metadata": {
    "vscode": {
     "languageId": "sql"
    }
   },
   "outputs": [
    {
     "name": "stdout",
     "output_type": "stream",
     "text": [
      " * sqlite:///data/olist.db\n",
      "Done.\n"
     ]
    },
    {
     "data": {
      "text/html": [
       "<table>\n",
       "    <thead>\n",
       "        <tr>\n",
       "            <th>order_id</th>\n",
       "            <th>customer_id</th>\n",
       "            <th>order_status</th>\n",
       "            <th>order_purchase_timestamp</th>\n",
       "            <th>order_approved_at</th>\n",
       "            <th>order_delivered_carrier_date</th>\n",
       "            <th>order_delivered_customer_date</th>\n",
       "            <th>order_estimated_delivery_date</th>\n",
       "        </tr>\n",
       "    </thead>\n",
       "    <tbody>\n",
       "        <tr>\n",
       "            <td>e481f51cbdc54678b7cc49136f2d6af7</td>\n",
       "            <td>9ef432eb6251297304e76186b10a928d</td>\n",
       "            <td>delivered</td>\n",
       "            <td>2017-10-02 10:56:33</td>\n",
       "            <td>2017-10-02 11:07:15</td>\n",
       "            <td>2017-10-04 19:55:00</td>\n",
       "            <td>2017-10-10 21:25:13</td>\n",
       "            <td>2017-10-18 00:00:00</td>\n",
       "        </tr>\n",
       "        <tr>\n",
       "            <td>53cdb2fc8bc7dce0b6741e2150273451</td>\n",
       "            <td>b0830fb4747a6c6d20dea0b8c802d7ef</td>\n",
       "            <td>delivered</td>\n",
       "            <td>2018-07-24 20:41:37</td>\n",
       "            <td>2018-07-26 03:24:27</td>\n",
       "            <td>2018-07-26 14:31:00</td>\n",
       "            <td>2018-08-07 15:27:45</td>\n",
       "            <td>2018-08-13 00:00:00</td>\n",
       "        </tr>\n",
       "        <tr>\n",
       "            <td>47770eb9100c2d0c44946d9cf07ec65d</td>\n",
       "            <td>41ce2a54c0b03bf3443c3d931a367089</td>\n",
       "            <td>delivered</td>\n",
       "            <td>2018-08-08 08:38:49</td>\n",
       "            <td>2018-08-08 08:55:23</td>\n",
       "            <td>2018-08-08 13:50:00</td>\n",
       "            <td>2018-08-17 18:06:29</td>\n",
       "            <td>2018-09-04 00:00:00</td>\n",
       "        </tr>\n",
       "    </tbody>\n",
       "</table>"
      ],
      "text/plain": [
       "[('e481f51cbdc54678b7cc49136f2d6af7', '9ef432eb6251297304e76186b10a928d', 'delivered', '2017-10-02 10:56:33', '2017-10-02 11:07:15', '2017-10-04 19:55:00', '2017-10-10 21:25:13', '2017-10-18 00:00:00'),\n",
       " ('53cdb2fc8bc7dce0b6741e2150273451', 'b0830fb4747a6c6d20dea0b8c802d7ef', 'delivered', '2018-07-24 20:41:37', '2018-07-26 03:24:27', '2018-07-26 14:31:00', '2018-08-07 15:27:45', '2018-08-13 00:00:00'),\n",
       " ('47770eb9100c2d0c44946d9cf07ec65d', '41ce2a54c0b03bf3443c3d931a367089', 'delivered', '2018-08-08 08:38:49', '2018-08-08 08:55:23', '2018-08-08 13:50:00', '2018-08-17 18:06:29', '2018-09-04 00:00:00')]"
      ]
     },
     "execution_count": 11,
     "metadata": {},
     "output_type": "execute_result"
    }
   ],
   "source": [
    "%%sql\n",
    "SELECT * FROM orders LIMIT 3;"
   ]
  },
  {
   "cell_type": "code",
   "execution_count": 12,
   "metadata": {
    "vscode": {
     "languageId": "sql"
    }
   },
   "outputs": [
    {
     "name": "stdout",
     "output_type": "stream",
     "text": [
      " * sqlite:///data/olist.db\n",
      "Done.\n"
     ]
    },
    {
     "data": {
      "text/html": [
       "<table>\n",
       "    <thead>\n",
       "        <tr>\n",
       "            <th>order_id</th>\n",
       "            <th>order_item_id</th>\n",
       "            <th>product_id</th>\n",
       "            <th>seller_id</th>\n",
       "            <th>shipping_limit_date</th>\n",
       "            <th>price</th>\n",
       "            <th>freight_value</th>\n",
       "        </tr>\n",
       "    </thead>\n",
       "    <tbody>\n",
       "        <tr>\n",
       "            <td>00010242fe8c5a6d1ba2dd792cb16214</td>\n",
       "            <td>1</td>\n",
       "            <td>4244733e06e7ecb4970a6e2683c13e61</td>\n",
       "            <td>48436dade18ac8b2bce089ec2a041202</td>\n",
       "            <td>2017-09-19 09:45:35</td>\n",
       "            <td>58.9</td>\n",
       "            <td>13.29</td>\n",
       "        </tr>\n",
       "        <tr>\n",
       "            <td>00018f77f2f0320c557190d7a144bdd3</td>\n",
       "            <td>1</td>\n",
       "            <td>e5f2d52b802189ee658865ca93d83a8f</td>\n",
       "            <td>dd7ddc04e1b6c2c614352b383efe2d36</td>\n",
       "            <td>2017-05-03 11:05:13</td>\n",
       "            <td>239.9</td>\n",
       "            <td>19.93</td>\n",
       "        </tr>\n",
       "        <tr>\n",
       "            <td>000229ec398224ef6ca0657da4fc703e</td>\n",
       "            <td>1</td>\n",
       "            <td>c777355d18b72b67abbeef9df44fd0fd</td>\n",
       "            <td>5b51032eddd242adc84c38acab88f23d</td>\n",
       "            <td>2018-01-18 14:48:30</td>\n",
       "            <td>199.0</td>\n",
       "            <td>17.87</td>\n",
       "        </tr>\n",
       "    </tbody>\n",
       "</table>"
      ],
      "text/plain": [
       "[('00010242fe8c5a6d1ba2dd792cb16214', 1, '4244733e06e7ecb4970a6e2683c13e61', '48436dade18ac8b2bce089ec2a041202', '2017-09-19 09:45:35', 58.9, 13.29),\n",
       " ('00018f77f2f0320c557190d7a144bdd3', 1, 'e5f2d52b802189ee658865ca93d83a8f', 'dd7ddc04e1b6c2c614352b383efe2d36', '2017-05-03 11:05:13', 239.9, 19.93),\n",
       " ('000229ec398224ef6ca0657da4fc703e', 1, 'c777355d18b72b67abbeef9df44fd0fd', '5b51032eddd242adc84c38acab88f23d', '2018-01-18 14:48:30', 199.0, 17.87)]"
      ]
     },
     "execution_count": 12,
     "metadata": {},
     "output_type": "execute_result"
    }
   ],
   "source": [
    "%%sql\n",
    "SELECT * FROM order_items LIMIT 3;"
   ]
  },
  {
   "cell_type": "code",
   "execution_count": 13,
   "metadata": {
    "vscode": {
     "languageId": "sql"
    }
   },
   "outputs": [
    {
     "name": "stdout",
     "output_type": "stream",
     "text": [
      " * sqlite:///data/olist.db\n",
      "Done.\n"
     ]
    },
    {
     "data": {
      "text/html": [
       "<table>\n",
       "    <thead>\n",
       "        <tr>\n",
       "            <th>order_id</th>\n",
       "            <th>payment_sequential</th>\n",
       "            <th>payment_type</th>\n",
       "            <th>payment_installments</th>\n",
       "            <th>payment_value</th>\n",
       "        </tr>\n",
       "    </thead>\n",
       "    <tbody>\n",
       "        <tr>\n",
       "            <td>b81ef226f3fe1789b1e8b2acac839d17</td>\n",
       "            <td>1</td>\n",
       "            <td>credit_card</td>\n",
       "            <td>8</td>\n",
       "            <td>99.33</td>\n",
       "        </tr>\n",
       "        <tr>\n",
       "            <td>a9810da82917af2d9aefd1278f1dcfa0</td>\n",
       "            <td>1</td>\n",
       "            <td>credit_card</td>\n",
       "            <td>1</td>\n",
       "            <td>24.39</td>\n",
       "        </tr>\n",
       "        <tr>\n",
       "            <td>25e8ea4e93396b6fa0d3dd708e76c1bd</td>\n",
       "            <td>1</td>\n",
       "            <td>credit_card</td>\n",
       "            <td>1</td>\n",
       "            <td>65.71</td>\n",
       "        </tr>\n",
       "    </tbody>\n",
       "</table>"
      ],
      "text/plain": [
       "[('b81ef226f3fe1789b1e8b2acac839d17', 1, 'credit_card', 8, 99.33),\n",
       " ('a9810da82917af2d9aefd1278f1dcfa0', 1, 'credit_card', 1, 24.39),\n",
       " ('25e8ea4e93396b6fa0d3dd708e76c1bd', 1, 'credit_card', 1, 65.71)]"
      ]
     },
     "execution_count": 13,
     "metadata": {},
     "output_type": "execute_result"
    }
   ],
   "source": [
    "%%sql\n",
    "SELECT * FROM order_payments LIMIT 3;"
   ]
  },
  {
   "cell_type": "code",
   "execution_count": 14,
   "metadata": {
    "vscode": {
     "languageId": "sql"
    }
   },
   "outputs": [
    {
     "name": "stdout",
     "output_type": "stream",
     "text": [
      " * sqlite:///data/olist.db\n",
      "Done.\n"
     ]
    },
    {
     "data": {
      "text/html": [
       "<table>\n",
       "    <thead>\n",
       "        <tr>\n",
       "            <th>product_id</th>\n",
       "            <th>product_category_name</th>\n",
       "            <th>product_name_lenght</th>\n",
       "            <th>product_description_lenght</th>\n",
       "            <th>product_photos_qty</th>\n",
       "            <th>product_weight_g</th>\n",
       "            <th>product_length_cm</th>\n",
       "            <th>product_height_cm</th>\n",
       "            <th>product_width_cm</th>\n",
       "        </tr>\n",
       "    </thead>\n",
       "    <tbody>\n",
       "        <tr>\n",
       "            <td>1e9e8ef04dbcff4541ed26657ea517e5</td>\n",
       "            <td>perfumaria</td>\n",
       "            <td>40</td>\n",
       "            <td>287</td>\n",
       "            <td>1</td>\n",
       "            <td>225</td>\n",
       "            <td>16</td>\n",
       "            <td>10</td>\n",
       "            <td>14</td>\n",
       "        </tr>\n",
       "        <tr>\n",
       "            <td>3aa071139cb16b67ca9e5dea641aaa2f</td>\n",
       "            <td>artes</td>\n",
       "            <td>44</td>\n",
       "            <td>276</td>\n",
       "            <td>1</td>\n",
       "            <td>1000</td>\n",
       "            <td>30</td>\n",
       "            <td>18</td>\n",
       "            <td>20</td>\n",
       "        </tr>\n",
       "        <tr>\n",
       "            <td>96bd76ec8810374ed1b65e291975717f</td>\n",
       "            <td>esporte_lazer</td>\n",
       "            <td>46</td>\n",
       "            <td>250</td>\n",
       "            <td>1</td>\n",
       "            <td>154</td>\n",
       "            <td>18</td>\n",
       "            <td>9</td>\n",
       "            <td>15</td>\n",
       "        </tr>\n",
       "    </tbody>\n",
       "</table>"
      ],
      "text/plain": [
       "[('1e9e8ef04dbcff4541ed26657ea517e5', 'perfumaria', 40, 287, 1, 225, 16, 10, 14),\n",
       " ('3aa071139cb16b67ca9e5dea641aaa2f', 'artes', 44, 276, 1, 1000, 30, 18, 20),\n",
       " ('96bd76ec8810374ed1b65e291975717f', 'esporte_lazer', 46, 250, 1, 154, 18, 9, 15)]"
      ]
     },
     "execution_count": 14,
     "metadata": {},
     "output_type": "execute_result"
    }
   ],
   "source": [
    "%%sql\n",
    "SELECT * FROM products LIMIT 3;"
   ]
  },
  {
   "cell_type": "code",
   "execution_count": 15,
   "metadata": {
    "vscode": {
     "languageId": "sql"
    }
   },
   "outputs": [
    {
     "name": "stdout",
     "output_type": "stream",
     "text": [
      " * sqlite:///data/olist.db\n",
      "Done.\n"
     ]
    },
    {
     "data": {
      "text/html": [
       "<table>\n",
       "    <thead>\n",
       "        <tr>\n",
       "            <th>product_category_name</th>\n",
       "            <th>product_category_name_english</th>\n",
       "        </tr>\n",
       "    </thead>\n",
       "    <tbody>\n",
       "        <tr>\n",
       "            <td>beleza_saude</td>\n",
       "            <td>health_beauty</td>\n",
       "        </tr>\n",
       "        <tr>\n",
       "            <td>informatica_acessorios</td>\n",
       "            <td>computers_accessories</td>\n",
       "        </tr>\n",
       "        <tr>\n",
       "            <td>automotivo</td>\n",
       "            <td>auto</td>\n",
       "        </tr>\n",
       "    </tbody>\n",
       "</table>"
      ],
      "text/plain": [
       "[('beleza_saude', 'health_beauty'),\n",
       " ('informatica_acessorios', 'computers_accessories'),\n",
       " ('automotivo', 'auto')]"
      ]
     },
     "execution_count": 15,
     "metadata": {},
     "output_type": "execute_result"
    }
   ],
   "source": [
    "%%sql\n",
    "SELECT * FROM products_translation LIMIT 3;"
   ]
  },
  {
   "attachments": {},
   "cell_type": "markdown",
   "metadata": {},
   "source": [
    "### How many orders were and what was their distribution over time?"
   ]
  },
  {
   "attachments": {},
   "cell_type": "markdown",
   "metadata": {},
   "source": [
    "How many orders were there in the entire period?"
   ]
  },
  {
   "cell_type": "code",
   "execution_count": 41,
   "metadata": {
    "vscode": {
     "languageId": "sql"
    }
   },
   "outputs": [
    {
     "name": "stdout",
     "output_type": "stream",
     "text": [
      " * sqlite:///olist.db\n",
      "Done.\n"
     ]
    },
    {
     "data": {
      "text/html": [
       "<table>\n",
       "    <thead>\n",
       "        <tr>\n",
       "            <th>COUNT(order_id)</th>\n",
       "        </tr>\n",
       "    </thead>\n",
       "    <tbody>\n",
       "        <tr>\n",
       "            <td>99441</td>\n",
       "        </tr>\n",
       "    </tbody>\n",
       "</table>"
      ],
      "text/plain": [
       "[(99441,)]"
      ]
     },
     "execution_count": 41,
     "metadata": {},
     "output_type": "execute_result"
    }
   ],
   "source": [
    "%%sql\n",
    "SELECT COUNT(order_id) FROM orders;"
   ]
  },
  {
   "attachments": {},
   "cell_type": "markdown",
   "metadata": {},
   "source": [
    "When did the first and last orders occur?"
   ]
  },
  {
   "cell_type": "code",
   "execution_count": 44,
   "metadata": {
    "vscode": {
     "languageId": "sql"
    }
   },
   "outputs": [
    {
     "name": "stdout",
     "output_type": "stream",
     "text": [
      " * sqlite:///olist.db\n",
      "Done.\n"
     ]
    },
    {
     "data": {
      "text/html": [
       "<table>\n",
       "    <thead>\n",
       "        <tr>\n",
       "            <th>start_date</th>\n",
       "            <th>end_date</th>\n",
       "        </tr>\n",
       "    </thead>\n",
       "    <tbody>\n",
       "        <tr>\n",
       "            <td>2016-09-04 21:15:19</td>\n",
       "            <td>2018-10-17 17:30:18</td>\n",
       "        </tr>\n",
       "    </tbody>\n",
       "</table>"
      ],
      "text/plain": [
       "[('2016-09-04 21:15:19', '2018-10-17 17:30:18')]"
      ]
     },
     "execution_count": 44,
     "metadata": {},
     "output_type": "execute_result"
    }
   ],
   "source": [
    "%%sql\n",
    "SELECT min(datetime(order_purchase_timestamp)) AS start_date, max(datetime(order_purchase_timestamp)) AS end_date FROM orders;"
   ]
  },
  {
   "attachments": {},
   "cell_type": "markdown",
   "metadata": {},
   "source": [
    "Let's check what was the number of orders broken down into the following months."
   ]
  },
  {
   "cell_type": "code",
   "execution_count": 54,
   "metadata": {
    "vscode": {
     "languageId": "sql"
    }
   },
   "outputs": [
    {
     "name": "stdout",
     "output_type": "stream",
     "text": [
      " * sqlite:///olist.db\n",
      "Done.\n"
     ]
    },
    {
     "data": {
      "text/html": [
       "<table>\n",
       "    <thead>\n",
       "        <tr>\n",
       "            <th>date</th>\n",
       "            <th>orders_number</th>\n",
       "        </tr>\n",
       "    </thead>\n",
       "    <tbody>\n",
       "        <tr>\n",
       "            <td>2016-09</td>\n",
       "            <td>4</td>\n",
       "        </tr>\n",
       "        <tr>\n",
       "            <td>2016-10</td>\n",
       "            <td>324</td>\n",
       "        </tr>\n",
       "        <tr>\n",
       "            <td>2016-12</td>\n",
       "            <td>1</td>\n",
       "        </tr>\n",
       "        <tr>\n",
       "            <td>2017-01</td>\n",
       "            <td>800</td>\n",
       "        </tr>\n",
       "        <tr>\n",
       "            <td>2017-02</td>\n",
       "            <td>1780</td>\n",
       "        </tr>\n",
       "        <tr>\n",
       "            <td>2017-03</td>\n",
       "            <td>2682</td>\n",
       "        </tr>\n",
       "        <tr>\n",
       "            <td>2017-04</td>\n",
       "            <td>2404</td>\n",
       "        </tr>\n",
       "        <tr>\n",
       "            <td>2017-05</td>\n",
       "            <td>3700</td>\n",
       "        </tr>\n",
       "        <tr>\n",
       "            <td>2017-06</td>\n",
       "            <td>3245</td>\n",
       "        </tr>\n",
       "        <tr>\n",
       "            <td>2017-07</td>\n",
       "            <td>4026</td>\n",
       "        </tr>\n",
       "        <tr>\n",
       "            <td>2017-08</td>\n",
       "            <td>4331</td>\n",
       "        </tr>\n",
       "        <tr>\n",
       "            <td>2017-09</td>\n",
       "            <td>4285</td>\n",
       "        </tr>\n",
       "        <tr>\n",
       "            <td>2017-10</td>\n",
       "            <td>4631</td>\n",
       "        </tr>\n",
       "        <tr>\n",
       "            <td>2017-11</td>\n",
       "            <td>7544</td>\n",
       "        </tr>\n",
       "        <tr>\n",
       "            <td>2017-12</td>\n",
       "            <td>5673</td>\n",
       "        </tr>\n",
       "        <tr>\n",
       "            <td>2018-01</td>\n",
       "            <td>7269</td>\n",
       "        </tr>\n",
       "        <tr>\n",
       "            <td>2018-02</td>\n",
       "            <td>6728</td>\n",
       "        </tr>\n",
       "        <tr>\n",
       "            <td>2018-03</td>\n",
       "            <td>7211</td>\n",
       "        </tr>\n",
       "        <tr>\n",
       "            <td>2018-04</td>\n",
       "            <td>6939</td>\n",
       "        </tr>\n",
       "        <tr>\n",
       "            <td>2018-05</td>\n",
       "            <td>6873</td>\n",
       "        </tr>\n",
       "        <tr>\n",
       "            <td>2018-06</td>\n",
       "            <td>6167</td>\n",
       "        </tr>\n",
       "        <tr>\n",
       "            <td>2018-07</td>\n",
       "            <td>6292</td>\n",
       "        </tr>\n",
       "        <tr>\n",
       "            <td>2018-08</td>\n",
       "            <td>6512</td>\n",
       "        </tr>\n",
       "        <tr>\n",
       "            <td>2018-09</td>\n",
       "            <td>16</td>\n",
       "        </tr>\n",
       "        <tr>\n",
       "            <td>2018-10</td>\n",
       "            <td>4</td>\n",
       "        </tr>\n",
       "    </tbody>\n",
       "</table>"
      ],
      "text/plain": [
       "[('2016-09', 4),\n",
       " ('2016-10', 324),\n",
       " ('2016-12', 1),\n",
       " ('2017-01', 800),\n",
       " ('2017-02', 1780),\n",
       " ('2017-03', 2682),\n",
       " ('2017-04', 2404),\n",
       " ('2017-05', 3700),\n",
       " ('2017-06', 3245),\n",
       " ('2017-07', 4026),\n",
       " ('2017-08', 4331),\n",
       " ('2017-09', 4285),\n",
       " ('2017-10', 4631),\n",
       " ('2017-11', 7544),\n",
       " ('2017-12', 5673),\n",
       " ('2018-01', 7269),\n",
       " ('2018-02', 6728),\n",
       " ('2018-03', 7211),\n",
       " ('2018-04', 6939),\n",
       " ('2018-05', 6873),\n",
       " ('2018-06', 6167),\n",
       " ('2018-07', 6292),\n",
       " ('2018-08', 6512),\n",
       " ('2018-09', 16),\n",
       " ('2018-10', 4)]"
      ]
     },
     "execution_count": 54,
     "metadata": {},
     "output_type": "execute_result"
    }
   ],
   "source": [
    "%%sql\n",
    "SELECT STRFTIME(\"%Y-%m\",order_purchase_timestamp) AS date, COUNT(order_id) AS orders_number FROM orders\n",
    "GROUP BY STRFTIME(\"%Y-%m\",order_purchase_timestamp);"
   ]
  },
  {
   "attachments": {},
   "cell_type": "markdown",
   "metadata": {},
   "source": [
    "Using pandas and the seaborn library, we can make a simple visualization of the number of orders by month very quickly."
   ]
  },
  {
   "cell_type": "code",
   "execution_count": 63,
   "metadata": {},
   "outputs": [
    {
     "name": "stdout",
     "output_type": "stream",
     "text": [
      " * sqlite:///olist.db\n",
      "Done.\n"
     ]
    },
    {
     "data": {
      "text/plain": [
       "(array([ 0,  1,  2,  3,  4,  5,  6,  7,  8,  9, 10, 11, 12, 13, 14, 15, 16,\n",
       "        17, 18, 19, 20, 21, 22, 23, 24]),\n",
       " [Text(0, 0, '2016-09'),\n",
       "  Text(1, 0, '2016-10'),\n",
       "  Text(2, 0, '2016-12'),\n",
       "  Text(3, 0, '2017-01'),\n",
       "  Text(4, 0, '2017-02'),\n",
       "  Text(5, 0, '2017-03'),\n",
       "  Text(6, 0, '2017-04'),\n",
       "  Text(7, 0, '2017-05'),\n",
       "  Text(8, 0, '2017-06'),\n",
       "  Text(9, 0, '2017-07'),\n",
       "  Text(10, 0, '2017-08'),\n",
       "  Text(11, 0, '2017-09'),\n",
       "  Text(12, 0, '2017-10'),\n",
       "  Text(13, 0, '2017-11'),\n",
       "  Text(14, 0, '2017-12'),\n",
       "  Text(15, 0, '2018-01'),\n",
       "  Text(16, 0, '2018-02'),\n",
       "  Text(17, 0, '2018-03'),\n",
       "  Text(18, 0, '2018-04'),\n",
       "  Text(19, 0, '2018-05'),\n",
       "  Text(20, 0, '2018-06'),\n",
       "  Text(21, 0, '2018-07'),\n",
       "  Text(22, 0, '2018-08'),\n",
       "  Text(23, 0, '2018-09'),\n",
       "  Text(24, 0, '2018-10')])"
      ]
     },
     "execution_count": 63,
     "metadata": {},
     "output_type": "execute_result"
    },
    {
     "data": {
      "image/png": "[encoded data removed]",
      "text/plain": [
       "<Figure size 800x400 with 1 Axes>"
      ]
     },
     "metadata": {},
     "output_type": "display_data"
    }
   ],
   "source": [
    "data = %sql SELECT STRFTIME(\"%Y-%m\",order_purchase_timestamp) AS date, COUNT(order_id) AS orders_number FROM orders \\\n",
    "GROUP BY STRFTIME(\"%Y-%m\",order_purchase_timestamp);\n",
    "\n",
    "plt.figure(figsize = (8,4))\n",
    "sns.barplot(data.DataFrame(), x='date', y='orders_number')\n",
    "plt.xticks(rotation=45)"
   ]
  },
  {
   "attachments": {},
   "cell_type": "markdown",
   "metadata": {},
   "source": [
    "### Orders of what value have not been delivered to the customer?\n",
    "\n",
    "In the 'orders' table there is an 'order_status' column which simply describes the status of each order. Below, the number of orders depending on the status in the entire data range."
   ]
  },
  {
   "cell_type": "code",
   "execution_count": 70,
   "metadata": {
    "vscode": {
     "languageId": "sql"
    }
   },
   "outputs": [
    {
     "name": "stdout",
     "output_type": "stream",
     "text": [
      " * sqlite:///olist.db\n",
      "Done.\n"
     ]
    },
    {
     "data": {
      "text/html": [
       "<table>\n",
       "    <thead>\n",
       "        <tr>\n",
       "            <th>order_status</th>\n",
       "            <th>count</th>\n",
       "        </tr>\n",
       "    </thead>\n",
       "    <tbody>\n",
       "        <tr>\n",
       "            <td>delivered</td>\n",
       "            <td>96478</td>\n",
       "        </tr>\n",
       "        <tr>\n",
       "            <td>shipped</td>\n",
       "            <td>1107</td>\n",
       "        </tr>\n",
       "        <tr>\n",
       "            <td>canceled</td>\n",
       "            <td>625</td>\n",
       "        </tr>\n",
       "        <tr>\n",
       "            <td>unavailable</td>\n",
       "            <td>609</td>\n",
       "        </tr>\n",
       "        <tr>\n",
       "            <td>invoiced</td>\n",
       "            <td>314</td>\n",
       "        </tr>\n",
       "        <tr>\n",
       "            <td>processing</td>\n",
       "            <td>301</td>\n",
       "        </tr>\n",
       "        <tr>\n",
       "            <td>created</td>\n",
       "            <td>5</td>\n",
       "        </tr>\n",
       "        <tr>\n",
       "            <td>approved</td>\n",
       "            <td>2</td>\n",
       "        </tr>\n",
       "    </tbody>\n",
       "</table>"
      ],
      "text/plain": [
       "[('delivered', 96478),\n",
       " ('shipped', 1107),\n",
       " ('canceled', 625),\n",
       " ('unavailable', 609),\n",
       " ('invoiced', 314),\n",
       " ('processing', 301),\n",
       " ('created', 5),\n",
       " ('approved', 2)]"
      ]
     },
     "execution_count": 70,
     "metadata": {},
     "output_type": "execute_result"
    }
   ],
   "source": [
    "%%sql\n",
    "SELECT order_status, COUNT(order_id) AS count FROM orders\n",
    "GROUP BY order_status\n",
    "ORDER BY count DESC;"
   ]
  },
  {
   "attachments": {},
   "cell_type": "markdown",
   "metadata": {},
   "source": [
    "As you can see, the vast majority of orders have been delivered. Let's check what value (payment_value item from the 'order_payments' table) is for all orders with a status other than *delivered*."
   ]
  },
  {
   "cell_type": "code",
   "execution_count": 13,
   "metadata": {
    "vscode": {
     "languageId": "sql"
    }
   },
   "outputs": [
    {
     "name": "stdout",
     "output_type": "stream",
     "text": [
      " * sqlite:///olist.db\n",
      "Done.\n"
     ]
    },
    {
     "data": {
      "text/html": [
       "<table>\n",
       "    <thead>\n",
       "        <tr>\n",
       "            <th>payment_total</th>\n",
       "        </tr>\n",
       "    </thead>\n",
       "    <tbody>\n",
       "        <tr>\n",
       "            <td>586410.35</td>\n",
       "        </tr>\n",
       "    </tbody>\n",
       "</table>"
      ],
      "text/plain": [
       "[(586410.35,)]"
      ]
     },
     "execution_count": 13,
     "metadata": {},
     "output_type": "execute_result"
    }
   ],
   "source": [
    "%%sql\n",
    "SELECT ROUND(SUM(order_payments.payment_value),2) AS payment_total FROM order_payments\n",
    "LEFT JOIN orders ON order_payments.order_id=orders.order_id\n",
    "WHERE orders.order_status!='delivered' ;"
   ]
  },
  {
   "attachments": {},
   "cell_type": "markdown",
   "metadata": {},
   "source": [
    "Breakdown by total value of delivered and non-delivered orders."
   ]
  },
  {
   "cell_type": "code",
   "execution_count": 21,
   "metadata": {
    "vscode": {
     "languageId": "sql"
    }
   },
   "outputs": [
    {
     "name": "stdout",
     "output_type": "stream",
     "text": [
      " * sqlite:///olist.db\n",
      "Done.\n"
     ]
    },
    {
     "data": {
      "text/html": [
       "<table>\n",
       "    <thead>\n",
       "        <tr>\n",
       "            <th>order_status</th>\n",
       "            <th>total_sum</th>\n",
       "        </tr>\n",
       "    </thead>\n",
       "    <tbody>\n",
       "        <tr>\n",
       "            <td>delivered</td>\n",
       "            <td>15422461.77</td>\n",
       "        </tr>\n",
       "        <tr>\n",
       "            <td>not delivered</td>\n",
       "            <td>586410.35</td>\n",
       "        </tr>\n",
       "    </tbody>\n",
       "</table>"
      ],
      "text/plain": [
       "[('delivered', 15422461.77), ('not delivered', 586410.35)]"
      ]
     },
     "execution_count": 21,
     "metadata": {},
     "output_type": "execute_result"
    }
   ],
   "source": [
    "%%sql\n",
    "SELECT a.order_status AS order_status, ROUND(SUM(a.payment_value),2) AS total_sum FROM \n",
    "(SELECT order_payments.payment_value,\n",
    "CASE\n",
    "    WHEN orders.order_status!='delivered' THEN 'not delivered'\n",
    "    ELSE 'delivered'\n",
    "END order_status\n",
    "FROM order_payments\n",
    "LEFT JOIN orders ON order_payments.order_id=orders.order_id) AS a\n",
    "GROUP BY a.order_status\n",
    ";"
   ]
  },
  {
   "attachments": {},
   "cell_type": "markdown",
   "metadata": {},
   "source": [
    "### Which product categories generated the most revenue?\n",
    "\n",
    "Each order contains information about the purchased product (*product_id*). Thanks to this information, you can read the name of the product category from the 'products' table and translate it into English by connecting to the 'products_translation' table.\n",
    "\n",
    "Below is a table with the following information for each product category:\n",
    "- avg_price - average price of the product\n",
    "- avg_freight - average shipment price\n",
    "- avg_order - average order value\n",
    "- orders_count - total number of all orders\n",
    "- total_order_sum - total revenue"
   ]
  },
  {
   "cell_type": "code",
   "execution_count": 35,
   "metadata": {
    "vscode": {
     "languageId": "sql"
    }
   },
   "outputs": [
    {
     "name": "stdout",
     "output_type": "stream",
     "text": [
      " * sqlite:///olist.db\n",
      "Done.\n"
     ]
    },
    {
     "data": {
      "text/html": [
       "<table>\n",
       "    <thead>\n",
       "        <tr>\n",
       "            <th>category</th>\n",
       "            <th>avg_price</th>\n",
       "            <th>avg_freight</th>\n",
       "            <th>avg_order</th>\n",
       "            <th>orders_count</th>\n",
       "            <th>total_order_sum</th>\n",
       "        </tr>\n",
       "    </thead>\n",
       "    <tbody>\n",
       "        <tr>\n",
       "            <td>bed_bath_table</td>\n",
       "            <td>92.41</td>\n",
       "            <td>18.42</td>\n",
       "            <td>144.85</td>\n",
       "            <td>11823</td>\n",
       "            <td>1712553.67</td>\n",
       "        </tr>\n",
       "        <tr>\n",
       "            <td>health_beauty</td>\n",
       "            <td>130.07</td>\n",
       "            <td>18.9</td>\n",
       "            <td>166.2</td>\n",
       "            <td>9975</td>\n",
       "            <td>1657373.12</td>\n",
       "        </tr>\n",
       "        <tr>\n",
       "            <td>computers_accessories</td>\n",
       "            <td>116.59</td>\n",
       "            <td>18.95</td>\n",
       "            <td>196.16</td>\n",
       "            <td>8082</td>\n",
       "            <td>1585330.45</td>\n",
       "        </tr>\n",
       "        <tr>\n",
       "            <td>furniture_decor</td>\n",
       "            <td>87.5</td>\n",
       "            <td>20.76</td>\n",
       "            <td>163.56</td>\n",
       "            <td>8744</td>\n",
       "            <td>1430176.39</td>\n",
       "        </tr>\n",
       "        <tr>\n",
       "            <td>watches_gifts</td>\n",
       "            <td>202.09</td>\n",
       "            <td>16.83</td>\n",
       "            <td>230.48</td>\n",
       "            <td>6201</td>\n",
       "            <td>1429216.68</td>\n",
       "        </tr>\n",
       "        <tr>\n",
       "            <td>sports_leisure</td>\n",
       "            <td>114.48</td>\n",
       "            <td>19.51</td>\n",
       "            <td>155.63</td>\n",
       "            <td>8945</td>\n",
       "            <td>1392127.56</td>\n",
       "        </tr>\n",
       "        <tr>\n",
       "            <td>housewares</td>\n",
       "            <td>90.63</td>\n",
       "            <td>20.97</td>\n",
       "            <td>148.85</td>\n",
       "            <td>7355</td>\n",
       "            <td>1094758.13</td>\n",
       "        </tr>\n",
       "        <tr>\n",
       "            <td>auto</td>\n",
       "            <td>140.84</td>\n",
       "            <td>21.85</td>\n",
       "            <td>194.63</td>\n",
       "            <td>4379</td>\n",
       "            <td>852294.33</td>\n",
       "        </tr>\n",
       "        <tr>\n",
       "            <td>garden_tools</td>\n",
       "            <td>113.3</td>\n",
       "            <td>23.09</td>\n",
       "            <td>183.27</td>\n",
       "            <td>4574</td>\n",
       "            <td>838280.75</td>\n",
       "        </tr>\n",
       "        <tr>\n",
       "            <td>cool_stuff</td>\n",
       "            <td>166.12</td>\n",
       "            <td>22.03</td>\n",
       "            <td>195.56</td>\n",
       "            <td>3987</td>\n",
       "            <td>779698.0</td>\n",
       "        </tr>\n",
       "        <tr>\n",
       "            <td>office_furniture</td>\n",
       "            <td>160.94</td>\n",
       "            <td>40.19</td>\n",
       "            <td>363.79</td>\n",
       "            <td>1778</td>\n",
       "            <td>646826.49</td>\n",
       "        </tr>\n",
       "        <tr>\n",
       "            <td>toys</td>\n",
       "            <td>117.08</td>\n",
       "            <td>18.95</td>\n",
       "            <td>144.87</td>\n",
       "            <td>4273</td>\n",
       "            <td>619037.69</td>\n",
       "        </tr>\n",
       "        <tr>\n",
       "            <td>baby</td>\n",
       "            <td>135.94</td>\n",
       "            <td>22.38</td>\n",
       "            <td>168.91</td>\n",
       "            <td>3196</td>\n",
       "            <td>539845.66</td>\n",
       "        </tr>\n",
       "        <tr>\n",
       "            <td>perfumery</td>\n",
       "            <td>115.94</td>\n",
       "            <td>15.83</td>\n",
       "            <td>142.34</td>\n",
       "            <td>3560</td>\n",
       "            <td>506738.66</td>\n",
       "        </tr>\n",
       "        <tr>\n",
       "            <td>telephony</td>\n",
       "            <td>71.89</td>\n",
       "            <td>15.71</td>\n",
       "            <td>103.13</td>\n",
       "            <td>4721</td>\n",
       "            <td>486882.05</td>\n",
       "        </tr>\n",
       "        <tr>\n",
       "            <td>stationery</td>\n",
       "            <td>91.34</td>\n",
       "            <td>18.66</td>\n",
       "            <td>121.3</td>\n",
       "            <td>2617</td>\n",
       "            <td>317440.07</td>\n",
       "        </tr>\n",
       "        <tr>\n",
       "            <td>pet_shop</td>\n",
       "            <td>109.93</td>\n",
       "            <td>20.31</td>\n",
       "            <td>153.49</td>\n",
       "            <td>2028</td>\n",
       "            <td>311268.97</td>\n",
       "        </tr>\n",
       "        <tr>\n",
       "            <td>computers</td>\n",
       "            <td>1103.69</td>\n",
       "            <td>48.01</td>\n",
       "            <td>1268.73</td>\n",
       "            <td>220</td>\n",
       "            <td>279121.55</td>\n",
       "        </tr>\n",
       "        <tr>\n",
       "            <td>electronics</td>\n",
       "            <td>58.62</td>\n",
       "            <td>16.84</td>\n",
       "            <td>91.34</td>\n",
       "            <td>2845</td>\n",
       "            <td>259857.1</td>\n",
       "        </tr>\n",
       "        <tr>\n",
       "            <td>None</td>\n",
       "            <td>114.1</td>\n",
       "            <td>18.04</td>\n",
       "            <td>150.5</td>\n",
       "            <td>1723</td>\n",
       "            <td>259311.79</td>\n",
       "        </tr>\n",
       "    </tbody>\n",
       "</table>"
      ],
      "text/plain": [
       "[('bed_bath_table', 92.41, 18.42, 144.85, 11823, 1712553.67),\n",
       " ('health_beauty', 130.07, 18.9, 166.2, 9975, 1657373.12),\n",
       " ('computers_accessories', 116.59, 18.95, 196.16, 8082, 1585330.45),\n",
       " ('furniture_decor', 87.5, 20.76, 163.56, 8744, 1430176.39),\n",
       " ('watches_gifts', 202.09, 16.83, 230.48, 6201, 1429216.68),\n",
       " ('sports_leisure', 114.48, 19.51, 155.63, 8945, 1392127.56),\n",
       " ('housewares', 90.63, 20.97, 148.85, 7355, 1094758.13),\n",
       " ('auto', 140.84, 21.85, 194.63, 4379, 852294.33),\n",
       " ('garden_tools', 113.3, 23.09, 183.27, 4574, 838280.75),\n",
       " ('cool_stuff', 166.12, 22.03, 195.56, 3987, 779698.0),\n",
       " ('office_furniture', 160.94, 40.19, 363.79, 1778, 646826.49),\n",
       " ('toys', 117.08, 18.95, 144.87, 4273, 619037.69),\n",
       " ('baby', 135.94, 22.38, 168.91, 3196, 539845.66),\n",
       " ('perfumery', 115.94, 15.83, 142.34, 3560, 506738.66),\n",
       " ('telephony', 71.89, 15.71, 103.13, 4721, 486882.05),\n",
       " ('stationery', 91.34, 18.66, 121.3, 2617, 317440.07),\n",
       " ('pet_shop', 109.93, 20.31, 153.49, 2028, 311268.97),\n",
       " ('computers', 1103.69, 48.01, 1268.73, 220, 279121.55),\n",
       " ('electronics', 58.62, 16.84, 91.34, 2845, 259857.1),\n",
       " (None, 114.1, 18.04, 150.5, 1723, 259311.79)]"
      ]
     },
     "execution_count": 35,
     "metadata": {},
     "output_type": "execute_result"
    }
   ],
   "source": [
    "%%sql\n",
    "SELECT products_translation.product_category_name_english AS category, ROUND(AVG(order_items.price),2) AS avg_price, ROUND(AVG(order_items.freight_value),2) AS avg_freight, ROUND(AVG(order_payments.payment_value),2) AS avg_order, COUNT(order_items.order_id) AS orders_count, ROUND(SUM(order_payments.payment_value),2) AS total_order_sum FROM order_items \n",
    "LEFT JOIN products ON order_items.product_id = products.product_id\n",
    "LEFT JOIN order_payments ON order_items.order_id = order_payments.order_id\n",
    "LEFT JOIN products_translation ON products.product_category_name=products_translation.product_category_name\n",
    "GROUP BY products_translation.product_category_name_english\n",
    "ORDER BY total_order_sum DESC\n",
    "LIMIT 20;"
   ]
  },
  {
   "attachments": {},
   "cell_type": "markdown",
   "metadata": {},
   "source": [
    "### What revenue did the store generate over the entire period (2016-18)?"
   ]
  },
  {
   "attachments": {},
   "cell_type": "markdown",
   "metadata": {},
   "source": [
    "According to the database documentation, the order value is calculated by adding the price and shipping (*freight_value*) values. Below is the sum of all orders broken down into the sum of the product price and the shipment itself. The shipping costs alone amounted to over RBL 2 million."
   ]
  },
  {
   "cell_type": "code",
   "execution_count": 43,
   "metadata": {
    "vscode": {
     "languageId": "sql"
    }
   },
   "outputs": [
    {
     "name": "stdout",
     "output_type": "stream",
     "text": [
      " * sqlite:///olist.db\n",
      "Done.\n"
     ]
    },
    {
     "data": {
      "text/html": [
       "<table>\n",
       "    <thead>\n",
       "        <tr>\n",
       "            <th>sum_total</th>\n",
       "            <th>price_total</th>\n",
       "            <th>freight_total</th>\n",
       "        </tr>\n",
       "    </thead>\n",
       "    <tbody>\n",
       "        <tr>\n",
       "            <td>15843553.24</td>\n",
       "            <td>13591643.7</td>\n",
       "            <td>2251909.54</td>\n",
       "        </tr>\n",
       "    </tbody>\n",
       "</table>"
      ],
      "text/plain": [
       "[(15843553.24, 13591643.7, 2251909.54)]"
      ]
     },
     "execution_count": 43,
     "metadata": {},
     "output_type": "execute_result"
    }
   ],
   "source": [
    "%%sql\n",
    "SELECT ROUND(SUM(price)+SUM(freight_value),2) AS sum_total, ROUND(SUM(price),2) AS price_total, ROUND(SUM(freight_value),2) AS freight_total FROM order_items;"
   ]
  },
  {
   "attachments": {},
   "cell_type": "markdown",
   "metadata": {},
   "source": [
    "If we calculate the sum of payments made, it turns out to be different from the previously calculated value.  \n",
    "Unfortunately, I was unable to find the reason for this discrepancy."
   ]
  },
  {
   "cell_type": "code",
   "execution_count": 45,
   "metadata": {
    "vscode": {
     "languageId": "sql"
    }
   },
   "outputs": [
    {
     "name": "stdout",
     "output_type": "stream",
     "text": [
      " * sqlite:///olist.db\n",
      "Done.\n"
     ]
    },
    {
     "data": {
      "text/html": [
       "<table>\n",
       "    <thead>\n",
       "        <tr>\n",
       "            <th>payment_total</th>\n",
       "        </tr>\n",
       "    </thead>\n",
       "    <tbody>\n",
       "        <tr>\n",
       "            <td>16008872.12</td>\n",
       "        </tr>\n",
       "    </tbody>\n",
       "</table>"
      ],
      "text/plain": [
       "[(16008872.12,)]"
      ]
     },
     "execution_count": 45,
     "metadata": {},
     "output_type": "execute_result"
    }
   ],
   "source": [
    "%%sql\n",
    "SELECT ROUND(SUM(payment_value),2) AS payment_total FROM order_payments;"
   ]
  },
  {
   "attachments": {},
   "cell_type": "markdown",
   "metadata": {},
   "source": [
    "Breakdown of the value of all orders broken down into subsequent years of the store's operation."
   ]
  },
  {
   "cell_type": "code",
   "execution_count": 4,
   "metadata": {
    "vscode": {
     "languageId": "sql"
    }
   },
   "outputs": [
    {
     "name": "stdout",
     "output_type": "stream",
     "text": [
      " * sqlite:///olist.db\n",
      "Done.\n"
     ]
    },
    {
     "data": {
      "text/html": [
       "<table>\n",
       "    <thead>\n",
       "        <tr>\n",
       "            <th>year</th>\n",
       "            <th>total_revenue</th>\n",
       "        </tr>\n",
       "    </thead>\n",
       "    <tbody>\n",
       "        <tr>\n",
       "            <td>2016</td>\n",
       "            <td>46586.33</td>\n",
       "        </tr>\n",
       "        <tr>\n",
       "            <td>2017</td>\n",
       "            <td>6922900.24</td>\n",
       "        </tr>\n",
       "        <tr>\n",
       "            <td>2018</td>\n",
       "            <td>8452975.2</td>\n",
       "        </tr>\n",
       "    </tbody>\n",
       "</table>"
      ],
      "text/plain": [
       "[('2016', 46586.33), ('2017', 6922900.24), ('2018', 8452975.2)]"
      ]
     },
     "execution_count": 4,
     "metadata": {},
     "output_type": "execute_result"
    }
   ],
   "source": [
    "%%sql\n",
    "SELECT STRFTIME(\"%Y\",orders.order_purchase_timestamp) AS year, ROUND(SUM(a.total_sum),2) AS total_revenue FROM\n",
    "(SELECT order_id, payment_value as total_sum FROM order_payments) AS a\n",
    "JOIN orders ON a.order_id=orders.order_id\n",
    "WHERE orders.order_status='delivered'\n",
    "GROUP BY STRFTIME(\"%Y\",orders.order_purchase_timestamp)\n",
    ";"
   ]
  },
  {
   "attachments": {},
   "cell_type": "markdown",
   "metadata": {},
   "source": [
    "### What was the average order value and what is their distribution?\n",
    "\n",
    "Let's check what is the average value of a single order and the median of all orders."
   ]
  },
  {
   "cell_type": "code",
   "execution_count": 7,
   "metadata": {
    "vscode": {
     "languageId": "sql"
    }
   },
   "outputs": [
    {
     "name": "stdout",
     "output_type": "stream",
     "text": [
      " * sqlite:///data/olist.db\n",
      "Done.\n"
     ]
    },
    {
     "data": {
      "text/html": [
       "<table>\n",
       "    <thead>\n",
       "        <tr>\n",
       "            <th>avg_order</th>\n",
       "            <th>median_order</th>\n",
       "        </tr>\n",
       "    </thead>\n",
       "    <tbody>\n",
       "        <tr>\n",
       "            <td>154.1</td>\n",
       "            <td>100.0</td>\n",
       "        </tr>\n",
       "    </tbody>\n",
       "</table>"
      ],
      "text/plain": [
       "[(154.1, 100.0)]"
      ]
     },
     "execution_count": 7,
     "metadata": {},
     "output_type": "execute_result"
    }
   ],
   "source": [
    "%%sql\n",
    "SELECT ROUND(AVG(payment_value),2) AS avg_order, (SELECT payment_value FROM order_payments ORDER BY payment_value LIMIT 1 OFFSET (SELECT COUNT(*) FROM order_payments) / 2) AS median_order \n",
    "FROM order_payments;"
   ]
  },
  {
   "attachments": {},
   "cell_type": "markdown",
   "metadata": {},
   "source": [
    "By selecting the payment value from the 'payment_value' column, we can easily create a histogram with the distribution of order values.  \n",
    "The chart has been trimmed to the 0-1000 range because it has a very long tail with single high payments."
   ]
  },
  {
   "cell_type": "code",
   "execution_count": 9,
   "metadata": {},
   "outputs": [
    {
     "name": "stdout",
     "output_type": "stream",
     "text": [
      " * sqlite:///data/olist.db\n",
      "Done.\n"
     ]
    },
    {
     "data": {
      "text/plain": [
       "<AxesSubplot: ylabel='Count'>"
      ]
     },
     "execution_count": 9,
     "metadata": {},
     "output_type": "execute_result"
    },
    {
     "data": {
      "image/png": "[encoded data removed]",
      "text/plain": [
       "<Figure size 640x480 with 1 Axes>"
      ]
     },
     "metadata": {},
     "output_type": "display_data"
    }
   ],
   "source": [
    "data = %sql SELECT payment_value FROM order_payments;\n",
    "\n",
    "sns.histplot(data.DataFrame(), bins=50, binrange=[0,1000])\n"
   ]
  },
  {
   "cell_type": "code",
   "execution_count": null,
   "metadata": {
    "vscode": {
     "languageId": "sql"
    }
   },
   "outputs": [],
   "source": []
  },
  {
   "cell_type": "code",
   "execution_count": null,
   "metadata": {
    "vscode": {
     "languageId": "sql"
    }
   },
   "outputs": [],
   "source": []
  },
  {
   "attachments": {},
   "cell_type": "markdown",
   "metadata": {},
   "source": [
    "Przykład zamówienia, które zawiera wiele różnych produktów."
   ]
  },
  {
   "cell_type": "code",
   "execution_count": 15,
   "metadata": {
    "vscode": {
     "languageId": "sql"
    }
   },
   "outputs": [
    {
     "name": "stdout",
     "output_type": "stream",
     "text": [
      " * sqlite:///olist.db\n",
      "Done.\n"
     ]
    },
    {
     "data": {
      "text/html": [
       "<table>\n",
       "    <thead>\n",
       "        <tr>\n",
       "            <th>order_id</th>\n",
       "            <th>order_item_id</th>\n",
       "            <th>product_id</th>\n",
       "            <th>seller_id</th>\n",
       "            <th>shipping_limit_date</th>\n",
       "            <th>price</th>\n",
       "            <th>freight_value</th>\n",
       "        </tr>\n",
       "    </thead>\n",
       "    <tbody>\n",
       "        <tr>\n",
       "            <td>5a3b1c29a49756e75f1ef513383c0c12</td>\n",
       "            <td>1</td>\n",
       "            <td>99444c1e11fc38755dae86f5c67d3d1a</td>\n",
       "            <td>d2374cbcbb3ca4ab1086534108cc3ab7</td>\n",
       "            <td>2017-10-24 13:06:21</td>\n",
       "            <td>49.99</td>\n",
       "            <td>7.1</td>\n",
       "        </tr>\n",
       "        <tr>\n",
       "            <td>5a3b1c29a49756e75f1ef513383c0c12</td>\n",
       "            <td>2</td>\n",
       "            <td>17d8b8e9c21ec0fc5b33724e32fe422e</td>\n",
       "            <td>d2374cbcbb3ca4ab1086534108cc3ab7</td>\n",
       "            <td>2017-10-24 13:06:21</td>\n",
       "            <td>58.9</td>\n",
       "            <td>2.66</td>\n",
       "        </tr>\n",
       "        <tr>\n",
       "            <td>5a3b1c29a49756e75f1ef513383c0c12</td>\n",
       "            <td>3</td>\n",
       "            <td>399f54c06661d06ca45c6e24ed238e0e</td>\n",
       "            <td>d2374cbcbb3ca4ab1086534108cc3ab7</td>\n",
       "            <td>2017-10-24 13:06:21</td>\n",
       "            <td>61.9</td>\n",
       "            <td>11.98</td>\n",
       "        </tr>\n",
       "        <tr>\n",
       "            <td>5a3b1c29a49756e75f1ef513383c0c12</td>\n",
       "            <td>4</td>\n",
       "            <td>6a0713a63e990052795623e76cc2995e</td>\n",
       "            <td>d2374cbcbb3ca4ab1086534108cc3ab7</td>\n",
       "            <td>2017-10-24 13:06:21</td>\n",
       "            <td>72.9</td>\n",
       "            <td>2.66</td>\n",
       "        </tr>\n",
       "        <tr>\n",
       "            <td>5a3b1c29a49756e75f1ef513383c0c12</td>\n",
       "            <td>5</td>\n",
       "            <td>99444c1e11fc38755dae86f5c67d3d1a</td>\n",
       "            <td>d2374cbcbb3ca4ab1086534108cc3ab7</td>\n",
       "            <td>2017-10-24 13:06:21</td>\n",
       "            <td>49.99</td>\n",
       "            <td>7.1</td>\n",
       "        </tr>\n",
       "        <tr>\n",
       "            <td>5a3b1c29a49756e75f1ef513383c0c12</td>\n",
       "            <td>6</td>\n",
       "            <td>399f54c06661d06ca45c6e24ed238e0e</td>\n",
       "            <td>d2374cbcbb3ca4ab1086534108cc3ab7</td>\n",
       "            <td>2017-10-24 13:06:21</td>\n",
       "            <td>61.9</td>\n",
       "            <td>11.98</td>\n",
       "        </tr>\n",
       "        <tr>\n",
       "            <td>5a3b1c29a49756e75f1ef513383c0c12</td>\n",
       "            <td>7</td>\n",
       "            <td>d25bbb182b51d1594fe3b54a27ae143e</td>\n",
       "            <td>cfb1a033743668a192316f3c6d1d2671</td>\n",
       "            <td>2017-10-24 13:06:21</td>\n",
       "            <td>69.9</td>\n",
       "            <td>33.72</td>\n",
       "        </tr>\n",
       "        <tr>\n",
       "            <td>5a3b1c29a49756e75f1ef513383c0c12</td>\n",
       "            <td>8</td>\n",
       "            <td>e95fb3a80ca294f39de925b6428f3a32</td>\n",
       "            <td>d2374cbcbb3ca4ab1086534108cc3ab7</td>\n",
       "            <td>2017-10-24 13:06:21</td>\n",
       "            <td>78.9</td>\n",
       "            <td>7.98</td>\n",
       "        </tr>\n",
       "        <tr>\n",
       "            <td>5a3b1c29a49756e75f1ef513383c0c12</td>\n",
       "            <td>9</td>\n",
       "            <td>e95fb3a80ca294f39de925b6428f3a32</td>\n",
       "            <td>d2374cbcbb3ca4ab1086534108cc3ab7</td>\n",
       "            <td>2017-10-24 13:06:21</td>\n",
       "            <td>78.9</td>\n",
       "            <td>7.98</td>\n",
       "        </tr>\n",
       "        <tr>\n",
       "            <td>5a3b1c29a49756e75f1ef513383c0c12</td>\n",
       "            <td>10</td>\n",
       "            <td>d25bbb182b51d1594fe3b54a27ae143e</td>\n",
       "            <td>cfb1a033743668a192316f3c6d1d2671</td>\n",
       "            <td>2017-10-24 13:06:21</td>\n",
       "            <td>69.9</td>\n",
       "            <td>33.72</td>\n",
       "        </tr>\n",
       "        <tr>\n",
       "            <td>5a3b1c29a49756e75f1ef513383c0c12</td>\n",
       "            <td>11</td>\n",
       "            <td>399f54c06661d06ca45c6e24ed238e0e</td>\n",
       "            <td>d2374cbcbb3ca4ab1086534108cc3ab7</td>\n",
       "            <td>2017-10-24 13:06:21</td>\n",
       "            <td>61.9</td>\n",
       "            <td>11.98</td>\n",
       "        </tr>\n",
       "    </tbody>\n",
       "</table>"
      ],
      "text/plain": [
       "[('5a3b1c29a49756e75f1ef513383c0c12', 1, '99444c1e11fc38755dae86f5c67d3d1a', 'd2374cbcbb3ca4ab1086534108cc3ab7', '2017-10-24 13:06:21', 49.99, 7.1),\n",
       " ('5a3b1c29a49756e75f1ef513383c0c12', 2, '17d8b8e9c21ec0fc5b33724e32fe422e', 'd2374cbcbb3ca4ab1086534108cc3ab7', '2017-10-24 13:06:21', 58.9, 2.66),\n",
       " ('5a3b1c29a49756e75f1ef513383c0c12', 3, '399f54c06661d06ca45c6e24ed238e0e', 'd2374cbcbb3ca4ab1086534108cc3ab7', '2017-10-24 13:06:21', 61.9, 11.98),\n",
       " ('5a3b1c29a49756e75f1ef513383c0c12', 4, '6a0713a63e990052795623e76cc2995e', 'd2374cbcbb3ca4ab1086534108cc3ab7', '2017-10-24 13:06:21', 72.9, 2.66),\n",
       " ('5a3b1c29a49756e75f1ef513383c0c12', 5, '99444c1e11fc38755dae86f5c67d3d1a', 'd2374cbcbb3ca4ab1086534108cc3ab7', '2017-10-24 13:06:21', 49.99, 7.1),\n",
       " ('5a3b1c29a49756e75f1ef513383c0c12', 6, '399f54c06661d06ca45c6e24ed238e0e', 'd2374cbcbb3ca4ab1086534108cc3ab7', '2017-10-24 13:06:21', 61.9, 11.98),\n",
       " ('5a3b1c29a49756e75f1ef513383c0c12', 7, 'd25bbb182b51d1594fe3b54a27ae143e', 'cfb1a033743668a192316f3c6d1d2671', '2017-10-24 13:06:21', 69.9, 33.72),\n",
       " ('5a3b1c29a49756e75f1ef513383c0c12', 8, 'e95fb3a80ca294f39de925b6428f3a32', 'd2374cbcbb3ca4ab1086534108cc3ab7', '2017-10-24 13:06:21', 78.9, 7.98),\n",
       " ('5a3b1c29a49756e75f1ef513383c0c12', 9, 'e95fb3a80ca294f39de925b6428f3a32', 'd2374cbcbb3ca4ab1086534108cc3ab7', '2017-10-24 13:06:21', 78.9, 7.98),\n",
       " ('5a3b1c29a49756e75f1ef513383c0c12', 10, 'd25bbb182b51d1594fe3b54a27ae143e', 'cfb1a033743668a192316f3c6d1d2671', '2017-10-24 13:06:21', 69.9, 33.72),\n",
       " ('5a3b1c29a49756e75f1ef513383c0c12', 11, '399f54c06661d06ca45c6e24ed238e0e', 'd2374cbcbb3ca4ab1086534108cc3ab7', '2017-10-24 13:06:21', 61.9, 11.98)]"
      ]
     },
     "execution_count": 15,
     "metadata": {},
     "output_type": "execute_result"
    }
   ],
   "source": [
    "%%sql\n",
    "SELECT * FROM order_items \n",
    "WHERE order_id='5a3b1c29a49756e75f1ef513383c0c12'\n",
    "LIMIT 20;"
   ]
  }
 ],
 "metadata": {
  "kernelspec": {
   "display_name": "pysql",
   "language": "python",
   "name": "python3"
  },
  "language_info": {
   "codemirror_mode": {
    "name": "ipython",
    "version": 3
   },
   "file_extension": ".py",
   "mimetype": "text/x-python",
   "name": "python",
   "nbconvert_exporter": "python",
   "pygments_lexer": "ipython3",
   "version": "3.8.5"
  },
  "orig_nbformat": 4,
  "vscode": {
   "interpreter": {
    "hash": "09d6e341777874bbc0cfccde3c6d0224cb07a66fa0664d1a9bec1a0ff68020ff"
   }
  }
 },
 "nbformat": 4,
 "nbformat_minor": 2
}
